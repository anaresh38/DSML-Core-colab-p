{
  "cells": [
    {
      "cell_type": "markdown",
      "metadata": {
        "id": "view-in-github",
        "colab_type": "text"
      },
      "source": [
        "<a href=\"https://colab.research.google.com/github/anaresh38/DSML-Core-colab-p/blob/main/04_OOPs_PostRead.ipynb\" target=\"_parent\"><img src=\"https://colab.research.google.com/assets/colab-badge.svg\" alt=\"Open In Colab\"/></a>"
      ]
    },
    {
      "cell_type": "markdown",
      "metadata": {
        "id": "9TEp9RLAxuC7"
      },
      "source": [
        "## Decorators in Python\n",
        "\n",
        "\n",
        "### Motivation\n",
        "\n",
        "By now, you already about functions in Python and how they behave. We have already seen that functions also act as objects in Python. Functions can be nested inside other functions. They can also be passed as arguments to another function and returned from another function.\n",
        "\n",
        "\n",
        "#### But what if we want to add some more functionality to an existing function without altering the code in it?\n",
        "\n",
        "#### For example, consider the following function:"
      ]
    },
    {
      "cell_type": "code",
      "execution_count": null,
      "metadata": {
        "id": "wrwSe7EBxuDD"
      },
      "outputs": [],
      "source": [
        "def ordinary():\n",
        "    print(\"I am ordinary\")"
      ]
    },
    {
      "cell_type": "markdown",
      "metadata": {
        "id": "Et9-pmDNxuDG"
      },
      "source": [
        "#### Now when we call this function:"
      ]
    },
    {
      "cell_type": "code",
      "execution_count": null,
      "metadata": {
        "id": "eKeMIxbcxuDH",
        "outputId": "49084742-947d-4b7c-d586-b871b81576cc"
      },
      "outputs": [
        {
          "name": "stdout",
          "output_type": "stream",
          "text": [
            "I am ordinary\n"
          ]
        }
      ],
      "source": [
        "ordinary()"
      ]
    },
    {
      "cell_type": "markdown",
      "metadata": {
        "id": "LOt63mVVxuDJ"
      },
      "source": [
        "It prints out the required statement as expected.\n",
        "\n",
        "\n",
        "#### Now, Let's say we want to add some more functionality, like some more print statements to this function, we can do something like this:"
      ]
    },
    {
      "cell_type": "code",
      "execution_count": null,
      "metadata": {
        "id": "Bb4gx04exuDJ"
      },
      "outputs": [],
      "source": [
        "def ordinary():\n",
        "    print(\"I got decorated\")\n",
        "    print(\"I am ordinary\")"
      ]
    },
    {
      "cell_type": "markdown",
      "metadata": {
        "id": "w5JathfVxuDK"
      },
      "source": [
        "#### Now when we call this altered function:"
      ]
    },
    {
      "cell_type": "code",
      "execution_count": null,
      "metadata": {
        "id": "w4-bQKCExuDL",
        "outputId": "04206fb4-c192-406b-9bef-25f1a5459e0b"
      },
      "outputs": [
        {
          "name": "stdout",
          "output_type": "stream",
          "text": [
            "I got decorated\n",
            "I am ordinary\n"
          ]
        }
      ],
      "source": [
        "ordinary()"
      ]
    },
    {
      "cell_type": "markdown",
      "metadata": {
        "id": "wDCvn7hwxuDL"
      },
      "source": [
        "It gives the output as expected.\n",
        "\n",
        "#### But what if we don't want to alter the code inside this function?\n",
        "\n",
        "Let's say the code is written by some other programmer for a very specific purpose. By altering the code inside the existing function, we are changing the purpose for which the original function was created.\n",
        "\n",
        "\n",
        "#### So, how do we add functionality to an existing function without altering the code inside it?\n",
        "\n",
        "This is where **decorators** come into picture!!"
      ]
    },
    {
      "cell_type": "markdown",
      "metadata": {
        "id": "Fhawa__IxuDM"
      },
      "source": [
        "### What are decorators?\n",
        "\n",
        "Python has an interesting feature called decorators to **add functionality to an existing code**. This is also called **metaprogramming** because a part of the program tries to modify another part of the program at compile time.\n",
        "\n",
        "\n",
        "In most basic sense, **a decorator takes in a function, adds some functionality and returns it**.\n",
        "\n",
        "\n",
        "#### Functions and methods are called \"callable\" as they can be called.\n",
        "\n",
        "In fact, any object which implements the special `__call__()` method is termed **callable**. So, basically, a **decorator is a callable that returns a callable**.\n",
        "\n",
        "#### Let's add a decorator (additional functionality) to our `ordinary()` function without altering the original code inside it"
      ]
    },
    {
      "cell_type": "code",
      "execution_count": null,
      "metadata": {
        "id": "5GS3OzeCxuDN"
      },
      "outputs": [],
      "source": [
        "def ordinary():\n",
        "    print(\"I am ordinary\")\n",
        "\n",
        "    \n",
        "def make_pretty(func): # `func()` passed as argument to another function `make_pretty()`\n",
        "    def inner():\n",
        "        print(\"I got decorated\")\n",
        "        func()\n",
        "    return inner"
      ]
    },
    {
      "cell_type": "code",
      "execution_count": null,
      "metadata": {
        "id": "eSNO3HChxuDO",
        "outputId": "fd4a04bd-f556-4739-eacb-da7576ee9a0f"
      },
      "outputs": [
        {
          "name": "stdout",
          "output_type": "stream",
          "text": [
            "I am ordinary\n"
          ]
        }
      ],
      "source": [
        "ordinary()"
      ]
    },
    {
      "cell_type": "markdown",
      "metadata": {
        "id": "pua6wpGFxuDO"
      },
      "source": [
        "#### Let's decorate this ordinary function"
      ]
    },
    {
      "cell_type": "code",
      "execution_count": null,
      "metadata": {
        "id": "LGB0nQSvxuDP",
        "outputId": "d118bd07-81ed-48e3-885a-fc974217cb1d"
      },
      "outputs": [
        {
          "name": "stdout",
          "output_type": "stream",
          "text": [
            "I got decorated\n",
            "I am ordinary\n"
          ]
        }
      ],
      "source": [
        "pretty = make_pretty(ordinary)\n",
        "\n",
        "pretty()"
      ]
    },
    {
      "cell_type": "markdown",
      "metadata": {
        "id": "jzgYy6HOxuDP"
      },
      "source": [
        "In this example, **`make_pretty()` is a decorator**. In the assignment step:\n",
        "\n",
        "```\n",
        "pretty = make_pretty(ordinary)\n",
        "```\n",
        "\n",
        "**The function `ordinary()` got decorated and the returned function was given the name `pretty`.**\n",
        "\n",
        "\n",
        "We can see that the **decorator function added some new functionality to the original function**. This is similar to packing a gift. The decorator acts as a wrapper. **The nature of the object that got decorated (actual gift inside) does not alter**. But now, it looks pretty, since it got decorated.\n",
        "\n",
        "Generally, we decorate a function and reassign it as:\n",
        "```\n",
        "ordinary = make_pretty(ordinary)\n",
        "```\n",
        "**This is a common construct and for this reason, Python has a syntax to simplify this**.\n",
        "\n",
        "\n",
        "#### We can use the `@` symbol along with the name of the decorator function and place it above the definition of the function to be decorated**.\n",
        "#### For example:\n",
        "\n",
        "```\n",
        "@make_pretty\n",
        "def ordinary():\n",
        "    print(\"I am ordinary\")\n",
        "```\n",
        "\n",
        "is equivalent to\n",
        "\n",
        "\n",
        "```\n",
        "def ordinary():\n",
        "    print(\"I am ordinary\")\n",
        "ordinary = make_pretty(ordinary)\n",
        "```\n",
        "\n",
        "This is just a syntactic sugar to implement decorators :)"
      ]
    },
    {
      "cell_type": "markdown",
      "metadata": {
        "id": "Uyl9tn0WxuDQ"
      },
      "source": [
        "### Decorating Functions with Parameters\n",
        "\n",
        "The decorator we saw till now was simple and it only worked with functions that did not have any parameters. \n",
        "\n",
        "\n",
        "#### What if we had functions that took in parameters?"
      ]
    },
    {
      "cell_type": "code",
      "execution_count": null,
      "metadata": {
        "id": "lu2UvEEKxuDQ"
      },
      "outputs": [],
      "source": [
        "def divide(a, b):\n",
        "    return a/b"
      ]
    },
    {
      "cell_type": "markdown",
      "metadata": {
        "id": "zNfZKeI2xuDR"
      },
      "source": [
        "This function has two parameters, `a` and `b`. **We know it will give an error if we pass in `b` as `0`.**"
      ]
    },
    {
      "cell_type": "code",
      "execution_count": null,
      "metadata": {
        "id": "nPHyfG5PxuDR",
        "outputId": "e602fb58-9433-432f-ba2c-089279debc61"
      },
      "outputs": [
        {
          "data": {
            "text/plain": [
              "0.4"
            ]
          },
          "execution_count": 15,
          "metadata": {},
          "output_type": "execute_result"
        }
      ],
      "source": [
        "divide(2, 5)"
      ]
    },
    {
      "cell_type": "code",
      "execution_count": null,
      "metadata": {
        "id": "YvC7vxrMxuDR",
        "outputId": "0f4a8c21-ce7a-4026-8ccd-1bfc53079197"
      },
      "outputs": [
        {
          "ename": "ZeroDivisionError",
          "evalue": "division by zero",
          "output_type": "error",
          "traceback": [
            "\u001b[0;31m---------------------------------------------------------------------------\u001b[0m",
            "\u001b[0;31mZeroDivisionError\u001b[0m                         Traceback (most recent call last)",
            "\u001b[0;32m<ipython-input-16-45e818b2b9c5>\u001b[0m in \u001b[0;36m<module>\u001b[0;34m\u001b[0m\n\u001b[0;32m----> 1\u001b[0;31m \u001b[0mdivide\u001b[0m\u001b[0;34m(\u001b[0m\u001b[0;36m2\u001b[0m\u001b[0;34m,\u001b[0m \u001b[0;36m0\u001b[0m\u001b[0;34m)\u001b[0m\u001b[0;34m\u001b[0m\u001b[0;34m\u001b[0m\u001b[0m\n\u001b[0m",
            "\u001b[0;32m<ipython-input-14-7507bdc665d5>\u001b[0m in \u001b[0;36mdivide\u001b[0;34m(a, b)\u001b[0m\n\u001b[1;32m      1\u001b[0m \u001b[0;32mdef\u001b[0m \u001b[0mdivide\u001b[0m\u001b[0;34m(\u001b[0m\u001b[0ma\u001b[0m\u001b[0;34m,\u001b[0m \u001b[0mb\u001b[0m\u001b[0;34m)\u001b[0m\u001b[0;34m:\u001b[0m\u001b[0;34m\u001b[0m\u001b[0;34m\u001b[0m\u001b[0m\n\u001b[0;32m----> 2\u001b[0;31m     \u001b[0;32mreturn\u001b[0m \u001b[0ma\u001b[0m\u001b[0;34m/\u001b[0m\u001b[0mb\u001b[0m\u001b[0;34m\u001b[0m\u001b[0;34m\u001b[0m\u001b[0m\n\u001b[0m",
            "\u001b[0;31mZeroDivisionError\u001b[0m: division by zero"
          ]
        }
      ],
      "source": [
        "divide(2, 0)"
      ]
    },
    {
      "cell_type": "markdown",
      "metadata": {
        "id": "J0tlQyYrxuDS"
      },
      "source": [
        "#### Now let's make a decorator to check for this case that will cause the error."
      ]
    },
    {
      "cell_type": "code",
      "execution_count": null,
      "metadata": {
        "id": "yIvp9beFxuDS"
      },
      "outputs": [],
      "source": [
        "def smart_divide(func):\n",
        "    def inner(a, b):\n",
        "        print(\"I am going to divide\", a, \"and\", b)\n",
        "        if b == 0:\n",
        "            print(\"Whoops! cannot divide\")\n",
        "            return\n",
        "\n",
        "        return func(a, b)\n",
        "    return inner\n",
        "\n",
        "\n",
        "@smart_divide\n",
        "def divide(a, b):\n",
        "    print(a/b)"
      ]
    },
    {
      "cell_type": "markdown",
      "metadata": {
        "id": "XAtWwI6nxuDS"
      },
      "source": [
        "#### This new implementation will return None if the error condition arises."
      ]
    },
    {
      "cell_type": "code",
      "execution_count": null,
      "metadata": {
        "id": "AksHUqw4xuDT",
        "outputId": "a9d841da-74af-4f83-d851-d8195e172145"
      },
      "outputs": [
        {
          "name": "stdout",
          "output_type": "stream",
          "text": [
            "I am going to divide 2 and 5\n",
            "0.4\n"
          ]
        }
      ],
      "source": [
        "divide(2,5)"
      ]
    },
    {
      "cell_type": "code",
      "execution_count": null,
      "metadata": {
        "id": "cPSpmFNgxuDT",
        "outputId": "ef19ac58-62c3-4895-f670-7137c26d17b6"
      },
      "outputs": [
        {
          "name": "stdout",
          "output_type": "stream",
          "text": [
            "I am going to divide 2 and 0\n",
            "Whoops! cannot divide\n"
          ]
        }
      ],
      "source": [
        "divide(2,0)"
      ]
    },
    {
      "cell_type": "markdown",
      "metadata": {
        "id": "Kp0qzLHhxuDT"
      },
      "source": [
        "#### In this manner, we can decorate functions that take parameters.\n",
        "\n",
        "One important thing to note here is that parameters of the nested `inner()` function inside the decorator is the same as the parameters of functions it decorates. Taking this into account, now we can make **general decorators that work with any number of parameters**.\n",
        "\n",
        "### Decorating Functions with unknown number of parameters\n",
        "\n",
        "#### Do you remember how can we make a function take any number of arguments without knowing how many?\n",
        "\n",
        "We can use `function(*args, **kwargs)`. \n",
        "\n",
        "\n",
        "In this way, **args will be the tuple of positional arguments** and **kwargs will be the dictionary of keyword arguments**. \n",
        "\n",
        "#### An example of such a decorator is as follows:"
      ]
    },
    {
      "cell_type": "code",
      "execution_count": null,
      "metadata": {
        "id": "wG78VrkExuDU"
      },
      "outputs": [],
      "source": [
        "def works_for_all(func):\n",
        "    def inner(*args, **kwargs):\n",
        "        print(\"I can decorate any function\")\n",
        "        return func(*args, **kwargs)\n",
        "    return inner"
      ]
    },
    {
      "cell_type": "markdown",
      "metadata": {
        "id": "dF9cKJrJxuDU"
      },
      "source": [
        "### Chaining Decorators in Python\n",
        "\n",
        "Multiple decorators can be chained in Python.\n",
        "\n",
        "\n",
        "This means, **a function can be decorated multiple times with different (or same) decorators**. We simply place the decorators above the desired function."
      ]
    },
    {
      "cell_type": "code",
      "execution_count": null,
      "metadata": {
        "id": "mRA91_YYxuDU"
      },
      "outputs": [],
      "source": [
        "def star(func):\n",
        "    def inner(*args, **kwargs):\n",
        "        print(\"*\" * 30)\n",
        "        func(*args, **kwargs)\n",
        "        print(\"*\" * 30)\n",
        "    return inner\n",
        "\n",
        "\n",
        "def percent(func):\n",
        "    def inner(*args, **kwargs):\n",
        "        print(\"%\" * 30)\n",
        "        func(*args, **kwargs)\n",
        "        print(\"%\" * 30)\n",
        "    return inner"
      ]
    },
    {
      "cell_type": "code",
      "execution_count": null,
      "metadata": {
        "id": "joU7PkVVxuDU",
        "outputId": "6792385f-1201-4b55-cfda-e90b6f21b29e"
      },
      "outputs": [
        {
          "name": "stdout",
          "output_type": "stream",
          "text": [
            "******************************\n",
            "%%%%%%%%%%%%%%%%%%%%%%%%%%%%%%\n",
            "Hello\n",
            "%%%%%%%%%%%%%%%%%%%%%%%%%%%%%%\n",
            "******************************\n"
          ]
        }
      ],
      "source": [
        "@star\n",
        "@percent\n",
        "def printer(msg):\n",
        "    print(msg)\n",
        "\n",
        "\n",
        "printer(\"Hello\")"
      ]
    },
    {
      "cell_type": "markdown",
      "metadata": {
        "id": "2QRKppjnxuDV"
      },
      "source": [
        "#### Explanation:\n",
        "\n",
        "**The above syntax of:**\n",
        "```\n",
        "@star\n",
        "@percent\n",
        "def printer(msg):\n",
        "    print(msg)\n",
        "```\n",
        "\n",
        "**is equivalent to**\n",
        "\n",
        "```\n",
        "def printer(msg):\n",
        "    print(msg)\n",
        "printer = star(percent(printer))\n",
        "```\n",
        "\n",
        "#### The order in which we chain decorators matter. \n",
        "\n",
        "If we had reversed the order as:"
      ]
    },
    {
      "cell_type": "code",
      "execution_count": null,
      "metadata": {
        "id": "tb-0qbTfxuDV",
        "outputId": "9cd9ce9b-f6dc-41c6-9333-9fd6a0f346cc"
      },
      "outputs": [
        {
          "name": "stdout",
          "output_type": "stream",
          "text": [
            "%%%%%%%%%%%%%%%%%%%%%%%%%%%%%%\n",
            "******************************\n",
            "Hello\n",
            "******************************\n",
            "%%%%%%%%%%%%%%%%%%%%%%%%%%%%%%\n"
          ]
        }
      ],
      "source": [
        "@percent\n",
        "@star\n",
        "def printer(msg):\n",
        "    print(msg)\n",
        "    \n",
        "printer(\"Hello\")"
      ]
    },
    {
      "cell_type": "markdown",
      "metadata": {
        "id": "RRu5EgLNxuDV"
      },
      "source": [
        "**Now this syntax of:**\n",
        "```\n",
        "@percent\n",
        "@star\n",
        "def printer(msg):\n",
        "    print(msg)\n",
        "```\n",
        "\n",
        "**is equivalent to**\n",
        "\n",
        "```\n",
        "def printer(msg):\n",
        "    print(msg)\n",
        "printer = percent(star(printer))\n",
        "```\n",
        "\n",
        "\n",
        "Hope, now you have a clearer understanding of decorators. We'll move on to next topic **Class and Static Methods**, where this knowledge of **decorators will come handy**."
      ]
    },
    {
      "cell_type": "markdown",
      "metadata": {
        "id": "qSx08FDpxuDW"
      },
      "source": [
        "***"
      ]
    },
    {
      "cell_type": "markdown",
      "metadata": {
        "id": "VgxVeBN2xuDW"
      },
      "source": [
        "## Methods in a Python class\n",
        "\n",
        "In Python classes, we have three types of methods: \n",
        "\n",
        "1. Instance methods\n",
        "2. Class methods\n",
        "3. Static methods. \n",
        "\n",
        "<img src=\"https://drive.google.com/uc?export=view&id=1dfvk_4NmWhpXa7IRez_8zYqe-8HuJ20b\" width=\"400\"/>\n",
        "\n",
        "\n",
        "\n",
        "Whatever methods we implemented within our classes during the lecture were all **instance methods**. In this reading, we will be focusing on class methods and static methods."
      ]
    },
    {
      "cell_type": "markdown",
      "metadata": {
        "id": "hX3Hm3yvxuDW"
      },
      "source": [
        "### Instance methods\n",
        "\n",
        "#### Let's begin by writing a simple class that contains a simple examples Instance method"
      ]
    },
    {
      "cell_type": "code",
      "execution_count": null,
      "metadata": {
        "id": "5-Sj3KvBxuDW"
      },
      "outputs": [],
      "source": [
        "class MyClass:\n",
        "    def method(self):\n",
        "        return 'instance method called', self"
      ]
    },
    {
      "cell_type": "markdown",
      "metadata": {
        "id": "hsBNnPTnxuDW"
      },
      "source": [
        "That’s the basic, no-frills method type you’ll use most of the time. You can see the method takes one parameter, `self`, which points to an instance of `MyClass` when the method is called. But of course, instance methods can accept more than just one parameter.\n",
        "\n",
        "\n",
        "**Through the `self` parameter, instance methods can freely access attributes and other methods on the same object**. This gives them a lot of power when it comes to modifying an object’s state.\n",
        "\n",
        "\n",
        "Not only can they modify object state, instance methods can also access the class itself through the `self.__class__` attribute. This means **instance methods can also modify class state.**"
      ]
    },
    {
      "cell_type": "markdown",
      "metadata": {
        "id": "-vpqGMC9xuDX"
      },
      "source": [
        "#### Now, Let's talk about Class method and compare it with Instance method"
      ]
    },
    {
      "cell_type": "markdown",
      "metadata": {
        "id": "ULWUljNyxuDX"
      },
      "source": [
        "## Class methods\n",
        "\n",
        "**Class methods work with class variables and are accessible using the class name rather than its object**. \n",
        "\n",
        "\n",
        "Instead of accepting a `self` parameter, **class methods take a `cls` parameter that points to the class, and not the object instance**, when the method is called.\n",
        "\n",
        "\n",
        "Because the class method only has access to this `cls` argument, **it can’t modify object instance state**. That would require access to `self`. However, class methods can still modify class state that applies across all instances of the class.\n",
        "\n",
        "\n",
        "Since all class objects share the class variables, class methods are used to **access and modify class variables**. Class methods are accessed using the class name and **can be accessed without creating a class object.**\n",
        "\n",
        "### Syntax\n",
        "\n",
        "To declare a method as a class method, we use the **decorator `@classmethod`**. `cls` is used to refer to the class just like `self` is used to refer to the object of the class. \n",
        "\n",
        "\n",
        "You can use any other name instead of `cls`, but `cls` is used as per convention, and we will continue to use this convention here.\n",
        "\n",
        "#### Just like instance methods, all class methods have at least one argument, `cls`."
      ]
    },
    {
      "cell_type": "code",
      "execution_count": null,
      "metadata": {
        "id": "9LY9D_SnxuDX"
      },
      "outputs": [],
      "source": [
        "class MyClass:\n",
        "    def method(self):\n",
        "        return 'instance method called', self\n",
        "\n",
        "    @classmethod\n",
        "    def classmethod(cls):\n",
        "        return 'class method called', cls"
      ]
    },
    {
      "cell_type": "markdown",
      "metadata": {
        "id": "9Q6ArlVLxuDY"
      },
      "source": [
        "Here, we have used the `@classmethod` decorator to define `getTeamName` as a class method and later, we will call that method using the class name.\n",
        "\n",
        "\n",
        "#### Now, Let's talk about Static methods"
      ]
    },
    {
      "cell_type": "markdown",
      "metadata": {
        "id": "4xzDA373xuDY"
      },
      "source": [
        "## Static methods\n",
        "\n",
        "**Static methods are methods that are usually limited to class only and not their objects**. They have **no direct relation to class variables or instance variables**. They are used as **utility functions** inside the class or when we do not want the inherited classes to modify a method definition.\n",
        "\n",
        "\n",
        "This type of method takes **neither a `self` nor a `cls` parameter**, but of course it’s free to accept an arbitrary number of other parameters.\n",
        "\n",
        "\n",
        "#### Static methods do not know anything about the state of the class\n",
        "\n",
        "This means that they cannot modify class attributes. Therefore a **static method can neither modify object state nor class state**. Static methods are restricted in what data they can access - and they’re primarily a way to namespace your methods. The purpose of a static method is to use its parameters and produce a useful result.\n",
        "\n",
        "\n",
        "**Static methods can be accessed using the class name or the object name.**"
      ]
    },
    {
      "cell_type": "markdown",
      "metadata": {
        "id": "KrXnaSXRxuDY"
      },
      "source": [
        "### Syntax\n",
        "\n",
        "To declare a method as a static method, we use the **decorator `@staticmethod`**. It does not use a reference to the object or class, so we **do not have to use `self` or `cls`**. We can pass as many arguments as we want and use this method to perform any function without interfering with the instance or class variables.\n"
      ]
    },
    {
      "cell_type": "code",
      "execution_count": null,
      "metadata": {
        "id": "xtyZLXsNxuDY"
      },
      "outputs": [],
      "source": [
        "class MyClass:\n",
        "    def method(self):\n",
        "        return 'instance method called', self\n",
        "\n",
        "    @classmethod\n",
        "    def classmethod(cls):\n",
        "        return 'class method called', cls\n",
        "\n",
        "    @staticmethod\n",
        "    def staticmethod():\n",
        "        return 'static method called'"
      ]
    },
    {
      "cell_type": "markdown",
      "metadata": {
        "id": "K2r6wddzxuDY"
      },
      "source": [
        "### Intuition behind Instance, Class and Static methods\n",
        "\n",
        "Let’s take a look at how these methods behave in action when we call them. We’ll start by creating an instance of the class and then calling the three different methods on it.\n",
        "\n",
        "\n",
        "The above `MyClass` is set up in such a way that each method’s implementation returns a tuple containing information for us to trace what’s going on, and which parts of the class or object the method can access.\n",
        "\n",
        "#### Here’s what happens when we call an instance method:"
      ]
    },
    {
      "cell_type": "code",
      "execution_count": null,
      "metadata": {
        "id": "c2Ib4OYKxuDZ",
        "outputId": "c8a9de59-4f8b-4589-ce6f-4105e3c1df09"
      },
      "outputs": [
        {
          "data": {
            "text/plain": [
              "('instance method called', <__main__.MyClass at 0x7fadb0338a90>)"
            ]
          },
          "execution_count": 29,
          "metadata": {},
          "output_type": "execute_result"
        }
      ],
      "source": [
        "obj = MyClass()\n",
        "obj.method()"
      ]
    },
    {
      "cell_type": "markdown",
      "metadata": {
        "id": "5uPMUJ5xxuDZ"
      },
      "source": [
        "This confirms that the **instance method has access to the object instance** via the `self` argument.\n",
        "When the method is called, Python replaces the `self` argument with the instance object, `obj`.\n",
        "\n",
        "\n",
        "**Instance methods can also access the class itself through the `self.__class__` attribute**. This makes instance methods powerful in terms of access restrictions as they can modify state on the object instance and on the class itself."
      ]
    },
    {
      "cell_type": "markdown",
      "metadata": {
        "id": "WEzkrKGCxuDZ"
      },
      "source": [
        "#### Let’s try out the class method now:"
      ]
    },
    {
      "cell_type": "code",
      "execution_count": null,
      "metadata": {
        "id": "_FCMjhTyxuDZ",
        "outputId": "c5f54a02-1d5d-44e4-d363-5fc4cbf3c04c"
      },
      "outputs": [
        {
          "data": {
            "text/plain": [
              "('class method called', __main__.MyClass)"
            ]
          },
          "execution_count": 30,
          "metadata": {},
          "output_type": "execute_result"
        }
      ],
      "source": [
        "obj.classmethod()"
      ]
    },
    {
      "cell_type": "markdown",
      "metadata": {
        "id": "laJDosDmxuDZ"
      },
      "source": [
        "Calling classmethod() shows us it **doesn’t have access to the `MyClass` instance object**, but only to the `class MyClass`.\n",
        "\n",
        "\n",
        "Notice how **Python automatically passes the class as the first argument to the function when we call `MyClass.classmethod()`**. The `self` parameter on instance methods works the same way.\n",
        "\n",
        "\n",
        "#### Let's call the static method now:"
      ]
    },
    {
      "cell_type": "code",
      "execution_count": null,
      "metadata": {
        "id": "DkgSH6xfxuDa",
        "outputId": "608b270c-a8d1-437e-f2c6-01e020ffd450"
      },
      "outputs": [
        {
          "data": {
            "text/plain": [
              "'static method called'"
            ]
          },
          "execution_count": 31,
          "metadata": {},
          "output_type": "execute_result"
        }
      ],
      "source": [
        "obj.staticmethod()"
      ]
    },
    {
      "cell_type": "markdown",
      "metadata": {
        "id": "h_SQKEFSxuDa"
      },
      "source": [
        "#### Did you see how we called `staticmethod()` on the object and were able to do so successfully? \n",
        "\n",
        "Behind the scenes Python simply enforces the access restrictions by not passing in the `self` or the `cls` argument when a static method gets called.\n",
        "\n",
        "\n",
        "This confirms that **static methods can neither access the object instance state nor the class state**. They work like regular functions but belong to the class’s (and every instance’s) namespace.\n",
        "\n",
        "\n",
        "#### Now, let’s take a look at what happens when we attempt to call these methods on the class itself, without creating an object instance beforehand:"
      ]
    },
    {
      "cell_type": "code",
      "execution_count": null,
      "metadata": {
        "id": "qwgkuyowxuDa",
        "outputId": "f09d8e99-290c-4e1b-f797-d43b2f900328"
      },
      "outputs": [
        {
          "data": {
            "text/plain": [
              "('class method called', __main__.MyClass)"
            ]
          },
          "execution_count": 32,
          "metadata": {},
          "output_type": "execute_result"
        }
      ],
      "source": [
        "MyClass.classmethod()"
      ]
    },
    {
      "cell_type": "code",
      "execution_count": null,
      "metadata": {
        "id": "lJ2YqPk2xuDa",
        "outputId": "6897979e-f21c-40cb-ce8f-13874513bfc8"
      },
      "outputs": [
        {
          "data": {
            "text/plain": [
              "'static method called'"
            ]
          },
          "execution_count": 33,
          "metadata": {},
          "output_type": "execute_result"
        }
      ],
      "source": [
        "MyClass.staticmethod()"
      ]
    },
    {
      "cell_type": "code",
      "execution_count": null,
      "metadata": {
        "id": "pidAfyylxuDa",
        "outputId": "c221e36d-c3d1-4193-8d28-fa6b2b63166b"
      },
      "outputs": [
        {
          "ename": "TypeError",
          "evalue": "method() missing 1 required positional argument: 'self'",
          "output_type": "error",
          "traceback": [
            "\u001b[0;31m---------------------------------------------------------------------------\u001b[0m",
            "\u001b[0;31mTypeError\u001b[0m                                 Traceback (most recent call last)",
            "\u001b[0;32m<ipython-input-34-88f17b4fa117>\u001b[0m in \u001b[0;36m<module>\u001b[0;34m\u001b[0m\n\u001b[0;32m----> 1\u001b[0;31m \u001b[0mMyClass\u001b[0m\u001b[0;34m.\u001b[0m\u001b[0mmethod\u001b[0m\u001b[0;34m(\u001b[0m\u001b[0;34m)\u001b[0m\u001b[0;34m\u001b[0m\u001b[0;34m\u001b[0m\u001b[0m\n\u001b[0m",
            "\u001b[0;31mTypeError\u001b[0m: method() missing 1 required positional argument: 'self'"
          ]
        }
      ],
      "source": [
        "MyClass.method()"
      ]
    },
    {
      "cell_type": "markdown",
      "metadata": {
        "id": "fnRSPRzHxuDe"
      },
      "source": [
        "We were able to call `classmethod()` and `staticmethod()` just fine, but attempting to call the instance method `method()` failed with a `TypeError`.\n",
        "\n",
        "\n",
        "This is expected! We didn’t create an object instance and tried calling an instance function directly on the class blueprint itself. This means **there is no way for Python to populate the self argument and therefore the call fails**.\n",
        "\n",
        "\n",
        "This should make the distinction between these three method types a little more clear.\n"
      ]
    },
    {
      "cell_type": "markdown",
      "metadata": {
        "id": "b0uqH1IDxuDe"
      },
      "source": [
        "## A Realistic Example to understand when to use these special method types\n",
        "\n",
        "Now, Let's go over a slightly more realistic example to understand when to use these special method types.\n",
        "\n",
        "\n",
        "Let's create a class `Pizza` which we'll use to store the ingredients used in each instance of `Pizza` object"
      ]
    },
    {
      "cell_type": "code",
      "execution_count": null,
      "metadata": {
        "id": "4qhEaSf3xuDe"
      },
      "outputs": [],
      "source": [
        "class Pizza:\n",
        "    def __init__(self, ingredients):\n",
        "        self.ingredients = ingredients\n",
        "\n",
        "    def __repr__(self):\n",
        "        return (f'Pizza({self.ingredients!r})')"
      ]
    },
    {
      "cell_type": "code",
      "execution_count": null,
      "metadata": {
        "id": "5xIRIlq6xuDf",
        "outputId": "a687e7d1-1187-463d-eb35-1f1a17a36826"
      },
      "outputs": [
        {
          "data": {
            "text/plain": [
              "Pizza(['cheese', 'tomatoes'])"
            ]
          },
          "execution_count": 36,
          "metadata": {},
          "output_type": "execute_result"
        }
      ],
      "source": [
        "Pizza(['cheese', 'tomatoes'])"
      ]
    },
    {
      "cell_type": "markdown",
      "metadata": {
        "id": "lrs5oPpExuDf"
      },
      "source": [
        "But there are many variations of `Pizza` available"
      ]
    },
    {
      "cell_type": "code",
      "execution_count": null,
      "metadata": {
        "id": "TsR4AWkgxuDf"
      },
      "outputs": [],
      "source": [
        "Pizza(['mozzarella', 'tomatoes'])\n",
        "Pizza(['mozzarella', 'tomatoes', 'ham', 'mushrooms'])\n",
        "Pizza(['mozzarella'] * 4)"
      ]
    },
    {
      "cell_type": "markdown",
      "metadata": {
        "id": "iS7pKVPBxuDf"
      },
      "source": [
        "We can give the users of our `Pizza` class a better interface for creating the pizza objects. A nice and clean way to do that is by using **class methods** for the different kinds of pizzas we can create:"
      ]
    },
    {
      "cell_type": "code",
      "execution_count": null,
      "metadata": {
        "id": "KrUiGxN_xuDf"
      },
      "outputs": [],
      "source": [
        "class Pizza:\n",
        "    def __init__(self, ingredients):\n",
        "        self.ingredients = ingredients\n",
        "\n",
        "    def __repr__(self):\n",
        "        return f'Pizza({self.ingredients!r})'\n",
        "\n",
        "    @classmethod\n",
        "    def margherita(cls):\n",
        "        return cls(['mozzarella', 'tomatoes'])\n",
        "\n",
        "    @classmethod\n",
        "    def prosciutto(cls):\n",
        "        return cls(['mozzarella', 'tomatoes', 'ham'])"
      ]
    },
    {
      "cell_type": "markdown",
      "metadata": {
        "id": "QMYGBCATxuDf"
      },
      "source": [
        "Note how we use the `cls` argument in the `margherita` and `prosciutto` methods instead of calling the `Pizza()` constructor directly.\n",
        "\n",
        "#### Now, Let’s create some pizzas using these class methods:"
      ]
    },
    {
      "cell_type": "code",
      "execution_count": null,
      "metadata": {
        "id": "vNot8CIyxuDg",
        "outputId": "fb73429a-66fa-4ebf-d4af-7d0ca0eb3fe6"
      },
      "outputs": [
        {
          "data": {
            "text/plain": [
              "Pizza(['mozzarella', 'tomatoes'])"
            ]
          },
          "execution_count": 39,
          "metadata": {},
          "output_type": "execute_result"
        }
      ],
      "source": [
        "Pizza.margherita()"
      ]
    },
    {
      "cell_type": "code",
      "execution_count": null,
      "metadata": {
        "id": "893ak6vxxuDg",
        "outputId": "7fea0c75-0810-47f2-b107-ea8e8e8b0bdb"
      },
      "outputs": [
        {
          "data": {
            "text/plain": [
              "Pizza(['mozzarella', 'tomatoes', 'ham'])"
            ]
          },
          "execution_count": 40,
          "metadata": {},
          "output_type": "execute_result"
        }
      ],
      "source": [
        "Pizza.prosciutto()"
      ]
    },
    {
      "cell_type": "markdown",
      "metadata": {
        "id": "kpxQItKaxuDg"
      },
      "source": [
        "As you can see, we can use the class methods to create new `Pizza` objects that are configured the way we want them. **They all use the same `__init__` constructor internally** and simply provide a shortcut for remembering all of the various ingredients.\n",
        "\n",
        "\n",
        "Another way to look at this use of class methods is that **they allow you to define alternative constructors for your classes**.\n",
        "\n",
        "\n",
        "**Python only allows one `__init__` method per class**. Using class methods it’s possible to add as many alternative constructors as necessary."
      ]
    },
    {
      "cell_type": "markdown",
      "metadata": {
        "id": "SFtHA2CLxuDg"
      },
      "source": [
        "#### Now, When To Use Static Methods?\n",
        "\n",
        "Let's say we need to compute the circular area of all the `Pizza` objects that we create. We can use **static method** for this."
      ]
    },
    {
      "cell_type": "code",
      "execution_count": null,
      "metadata": {
        "id": "oJn4pUKzxuDg"
      },
      "outputs": [],
      "source": [
        "import math\n",
        "\n",
        "class Pizza:\n",
        "    def __init__(self, radius, ingredients):\n",
        "        self.radius = radius\n",
        "        self.ingredients = ingredients\n",
        "\n",
        "    def __repr__(self):\n",
        "        return (f'Pizza({self.radius!r}, '\n",
        "                f'{self.ingredients!r})')\n",
        "\n",
        "    def area(self):\n",
        "        return self.circle_area(self.radius)\n",
        "\n",
        "    @staticmethod\n",
        "    def circle_area(r):\n",
        "        return r ** 2 * math.pi"
      ]
    },
    {
      "cell_type": "markdown",
      "metadata": {
        "id": "1EPC8GEdxuDg"
      },
      "source": [
        "#### As you can see:\n",
        "\n",
        "First, we modified the constructor and `__repr__` to accept an extra `radius` argument.\n",
        "\n",
        "\n",
        "We also added an **`area()` instance method** that calculates and returns the pizza’s area.\n",
        "\n",
        "\n",
        "Instead of calculating the area directly within `area()`, using the well-known circle area formula, we factored that out to a **separate `circle_area()` static method**.\n",
        "\n",
        "#### Let’s use this now:\n"
      ]
    },
    {
      "cell_type": "code",
      "execution_count": null,
      "metadata": {
        "id": "nHqqpSjDxuDh",
        "outputId": "353aa851-d5bd-4ac7-c379-87a79068e8c9"
      },
      "outputs": [
        {
          "data": {
            "text/plain": [
              "Pizza(4, ['mozzarella', 'tomatoes'])"
            ]
          },
          "execution_count": 43,
          "metadata": {},
          "output_type": "execute_result"
        }
      ],
      "source": [
        "p = Pizza(4, ['mozzarella', 'tomatoes'])\n",
        "p"
      ]
    },
    {
      "cell_type": "code",
      "execution_count": null,
      "metadata": {
        "id": "CEp4SyAaxuDh",
        "outputId": "1295a3ef-cd20-49e4-dce8-7ff68ba50708"
      },
      "outputs": [
        {
          "data": {
            "text/plain": [
              "50.26548245743669"
            ]
          },
          "execution_count": 44,
          "metadata": {},
          "output_type": "execute_result"
        }
      ],
      "source": [
        "p.area()"
      ]
    },
    {
      "cell_type": "code",
      "execution_count": null,
      "metadata": {
        "id": "RB1n_0O0xuDh",
        "outputId": "061cda6e-fd84-495f-f30a-c609eea869c1"
      },
      "outputs": [
        {
          "data": {
            "text/plain": [
              "50.26548245743669"
            ]
          },
          "execution_count": 45,
          "metadata": {},
          "output_type": "execute_result"
        }
      ],
      "source": [
        "Pizza.circle_area(4)"
      ]
    },
    {
      "cell_type": "markdown",
      "metadata": {
        "id": "mFbs-TkOxuDh"
      },
      "source": [
        "As we’ve already learned, **static methods can’t access class or instance state** because they don’t take a `cls` or `self` argument. That’s a big limitation, but it’s also a **great signal to show that a particular method is independent from everything else around it**.\n",
        "\n",
        "\n",
        "In this example, it’s clear that `circle_area()` can’t modify the class or the class instance in any way.\n"
      ]
    },
    {
      "cell_type": "markdown",
      "metadata": {
        "id": "KJTc5iiJxuDi"
      },
      "source": [
        "#### But, why is that useful?\n",
        "\n",
        "Flagging a method as a static method is not just a hint that a method won’t modify class or instance state, this restriction is also **enforced by the Python runtime**.\n",
        "\n",
        "\n",
        "Techniques like this allow you to communicate clearly about parts of your class architecture so that new development work is naturally guided to happen within these set boundaries. Of course, it would be easy enough to defy these restrictions. But in practice they often help avoid accidental modifications going against the original design.\n",
        "\n",
        "\n",
        "**Using static methods and class methods are ways to communicate developer intent** while enforcing that intent enough to avoid most slip of the mind mistakes and bugs that would break the design. Writing some of your methods that way can provide maintenance benefits and make it less likely that other developers use your classes incorrectly.\n",
        "\n",
        "\n",
        "#### Static methods also have benefits when it comes to writing test code.\n",
        "\n",
        "Because the `circle_area()` method is completely independent from the rest of the class it’s much easier to test.\n",
        "\n",
        "\n",
        "So, we don’t have to worry about setting up a complete class instance before we can test the method in a unit test. We can just test it like we would be testing a regular function. This makes future maintenance easier.\n"
      ]
    },
    {
      "cell_type": "markdown",
      "metadata": {
        "id": "7LDTQ40vxuDi"
      },
      "source": [
        "***"
      ]
    },
    {
      "cell_type": "markdown",
      "metadata": {
        "id": "jHvgZNFwxuDi"
      },
      "source": [
        "## Just to Summarize\n",
        "\n",
        "- Instance methods need a class instance and can access the instance through `self`.\n",
        "\n",
        "\n",
        "- Class methods don’t need a class instance. They can’t access the instance (`self`) but they have access to the class itself via `cls`.\n",
        "\n",
        "\n",
        "- Static methods don’t have access to `cls` or `self`. They work like regular functions but belong to the class’s namespace.\n",
        "\n",
        "\n",
        "- Static and class methods communicate and, to a certain degree, can enforce developer intent about class design. This can have maintenance benefits."
      ]
    },
    {
      "cell_type": "markdown",
      "metadata": {
        "id": "kRKADCtgxuDi"
      },
      "source": [
        "This was all about class and static methods."
      ]
    }
  ],
  "metadata": {
    "kernelspec": {
      "display_name": "Python 3",
      "language": "python",
      "name": "python3"
    },
    "language_info": {
      "codemirror_mode": {
        "name": "ipython",
        "version": 3
      },
      "file_extension": ".py",
      "mimetype": "text/x-python",
      "name": "python",
      "nbconvert_exporter": "python",
      "pygments_lexer": "ipython3",
      "version": "3.8.8"
    },
    "colab": {
      "name": "04-OOPs-PostRead.ipynb",
      "provenance": [],
      "collapsed_sections": [
        "J0tlQyYrxuDS",
        "XAtWwI6nxuDS",
        "Kp0qzLHhxuDT",
        "2QRKppjnxuDV",
        "-vpqGMC9xuDX",
        "9Q6ArlVLxuDY",
        "WEzkrKGCxuDZ",
        "laJDosDmxuDZ",
        "h_SQKEFSxuDa",
        "QMYGBCATxuDf",
        "SFtHA2CLxuDg",
        "1EPC8GEdxuDg",
        "KJTc5iiJxuDi"
      ],
      "include_colab_link": true
    }
  },
  "nbformat": 4,
  "nbformat_minor": 0
}