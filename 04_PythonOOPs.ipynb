{
  "cells": [
    {
      "cell_type": "markdown",
      "metadata": {
        "id": "view-in-github",
        "colab_type": "text"
      },
      "source": [
        "<a href=\"https://colab.research.google.com/github/anaresh38/DSML-Core-colab-p/blob/live_create/04_PythonOOPs.ipynb\" target=\"_parent\"><img src=\"https://colab.research.google.com/assets/colab-badge.svg\" alt=\"Open In Colab\"/></a>"
      ]
    },
    {
      "cell_type": "markdown",
      "source": [
        "# OOPS (Last Class)\n",
        "\n",
        "Colab Link - https://colab.research.google.com/drive/1xfYU8Qv5BwKftUFQ0yq5vVDQlW1VoSrl?usp=sharing"
      ],
      "metadata": {
        "id": "0JL32JuH_X1q"
      }
    },
    {
      "cell_type": "code",
      "source": [
        "class Student:\n",
        "  pass"
      ],
      "metadata": {
        "id": "CK5Fe3rTXVnx"
      },
      "execution_count": null,
      "outputs": []
    },
    {
      "cell_type": "code",
      "source": [
        "s1 = Student()"
      ],
      "metadata": {
        "id": "RFaPmi-9aXt4"
      },
      "execution_count": null,
      "outputs": []
    },
    {
      "cell_type": "code",
      "source": [
        "s1"
      ],
      "metadata": {
        "colab": {
          "base_uri": "https://localhost:8080/"
        },
        "id": "qpjKfetgbCrK",
        "outputId": "e245c1ab-52e3-4014-e81a-44c53fd07968"
      },
      "execution_count": null,
      "outputs": [
        {
          "output_type": "execute_result",
          "data": {
            "text/plain": [
              "<__main__.Student at 0x7f574cfc7f50>"
            ]
          },
          "metadata": {},
          "execution_count": 5
        }
      ]
    },
    {
      "cell_type": "code",
      "source": [
        "type(s1)"
      ],
      "metadata": {
        "colab": {
          "base_uri": "https://localhost:8080/"
        },
        "id": "931HabSLbHcm",
        "outputId": "ca3d8475-6ada-41c6-fc87-f64069b0e9c9"
      },
      "execution_count": null,
      "outputs": [
        {
          "output_type": "execute_result",
          "data": {
            "text/plain": [
              "__main__.Student"
            ]
          },
          "metadata": {},
          "execution_count": 6
        }
      ]
    },
    {
      "cell_type": "code",
      "source": [
        "s2 = Student()"
      ],
      "metadata": {
        "id": "LsjX5rIEbXSm"
      },
      "execution_count": null,
      "outputs": []
    },
    {
      "cell_type": "code",
      "source": [
        "s2"
      ],
      "metadata": {
        "colab": {
          "base_uri": "https://localhost:8080/"
        },
        "id": "4mmOpbrCblxd",
        "outputId": "d099ccce-0fa8-4972-af74-315860ec1f53"
      },
      "execution_count": null,
      "outputs": [
        {
          "output_type": "execute_result",
          "data": {
            "text/plain": [
              "<__main__.Student at 0x7f574ad261d0>"
            ]
          },
          "metadata": {},
          "execution_count": 8
        }
      ]
    },
    {
      "cell_type": "code",
      "source": [
        "# attributes/properties"
      ],
      "metadata": {
        "id": "xXG-K72UbmnU"
      },
      "execution_count": null,
      "outputs": []
    },
    {
      "cell_type": "code",
      "source": [
        "s1.name = \"Rahul\""
      ],
      "metadata": {
        "id": "QdBR0DWTcJ8U"
      },
      "execution_count": null,
      "outputs": []
    },
    {
      "cell_type": "code",
      "source": [
        "s2.name = \"Anant\""
      ],
      "metadata": {
        "id": "_pOq_Sp3cOUN"
      },
      "execution_count": null,
      "outputs": []
    },
    {
      "cell_type": "code",
      "source": [
        "s1.name"
      ],
      "metadata": {
        "colab": {
          "base_uri": "https://localhost:8080/",
          "height": 35
        },
        "id": "fkUFVwFncP63",
        "outputId": "8ae096c1-d7ca-4b3e-bf3a-bb69df1c08ce"
      },
      "execution_count": null,
      "outputs": [
        {
          "output_type": "execute_result",
          "data": {
            "text/plain": [
              "'Rahul'"
            ],
            "application/vnd.google.colaboratory.intrinsic+json": {
              "type": "string"
            }
          },
          "metadata": {},
          "execution_count": 13
        }
      ]
    },
    {
      "cell_type": "code",
      "source": [
        "s2.name"
      ],
      "metadata": {
        "colab": {
          "base_uri": "https://localhost:8080/",
          "height": 35
        },
        "id": "h3wxOh61cR8t",
        "outputId": "77ccd026-a690-4c21-ee18-f351ae3ea64a"
      },
      "execution_count": null,
      "outputs": [
        {
          "output_type": "execute_result",
          "data": {
            "text/plain": [
              "'Anant'"
            ],
            "application/vnd.google.colaboratory.intrinsic+json": {
              "type": "string"
            }
          },
          "metadata": {},
          "execution_count": 14
        }
      ]
    },
    {
      "cell_type": "code",
      "source": [
        "class Student:\n",
        "  # dunder function (init)\n",
        "  def __init__(self):\n",
        "    self.name = \"placeholder\""
      ],
      "metadata": {
        "id": "zHeIsDv3cU2H"
      },
      "execution_count": null,
      "outputs": []
    },
    {
      "cell_type": "code",
      "source": [
        "s1 = Student()"
      ],
      "metadata": {
        "id": "4atJ9ZogdI_Y"
      },
      "execution_count": null,
      "outputs": []
    },
    {
      "cell_type": "code",
      "source": [
        "s1.name"
      ],
      "metadata": {
        "colab": {
          "base_uri": "https://localhost:8080/",
          "height": 35
        },
        "id": "fo5aVEVYdS-6",
        "outputId": "9865b9aa-13e5-4eac-cac3-c120e549c077"
      },
      "execution_count": null,
      "outputs": [
        {
          "output_type": "execute_result",
          "data": {
            "text/plain": [
              "'placeholder'"
            ],
            "application/vnd.google.colaboratory.intrinsic+json": {
              "type": "string"
            }
          },
          "metadata": {},
          "execution_count": 18
        }
      ]
    },
    {
      "cell_type": "code",
      "source": [
        "s2 = Student()"
      ],
      "metadata": {
        "id": "Ls2GxnxgdULo"
      },
      "execution_count": null,
      "outputs": []
    },
    {
      "cell_type": "code",
      "source": [
        "s2.name"
      ],
      "metadata": {
        "colab": {
          "base_uri": "https://localhost:8080/",
          "height": 35
        },
        "id": "lmbT6UZJdiCd",
        "outputId": "9329b796-c260-4f15-f445-b696b62121da"
      },
      "execution_count": null,
      "outputs": [
        {
          "output_type": "execute_result",
          "data": {
            "text/plain": [
              "'placeholder'"
            ],
            "application/vnd.google.colaboratory.intrinsic+json": {
              "type": "string"
            }
          },
          "metadata": {},
          "execution_count": 20
        }
      ]
    },
    {
      "cell_type": "code",
      "source": [
        "s1.name = \"Anant\""
      ],
      "metadata": {
        "id": "g3dPmntqdjdY"
      },
      "execution_count": null,
      "outputs": []
    },
    {
      "cell_type": "code",
      "source": [
        "s1.name"
      ],
      "metadata": {
        "colab": {
          "base_uri": "https://localhost:8080/",
          "height": 35
        },
        "id": "tkCkf-G9dqXG",
        "outputId": "6bc50bce-f477-4b76-9a4f-9f97a647d555"
      },
      "execution_count": null,
      "outputs": [
        {
          "output_type": "execute_result",
          "data": {
            "text/plain": [
              "'Anant'"
            ],
            "application/vnd.google.colaboratory.intrinsic+json": {
              "type": "string"
            }
          },
          "metadata": {},
          "execution_count": 22
        }
      ]
    },
    {
      "cell_type": "code",
      "source": [
        "s2.name"
      ],
      "metadata": {
        "colab": {
          "base_uri": "https://localhost:8080/",
          "height": 35
        },
        "id": "RfLX8Uuldrn6",
        "outputId": "2186bd5f-60db-45e0-aab1-029a65afe5b4"
      },
      "execution_count": null,
      "outputs": [
        {
          "output_type": "execute_result",
          "data": {
            "text/plain": [
              "'placeholder'"
            ],
            "application/vnd.google.colaboratory.intrinsic+json": {
              "type": "string"
            }
          },
          "metadata": {},
          "execution_count": 23
        }
      ]
    },
    {
      "cell_type": "code",
      "source": [
        "class Student:\n",
        "  # dunder function (init)\n",
        "  def __init__(self):\n",
        "    self.name = \"placeholder\""
      ],
      "metadata": {
        "id": "egoZnkw_dyWE"
      },
      "execution_count": null,
      "outputs": []
    },
    {
      "cell_type": "code",
      "source": [
        "s = Student()\n",
        "print(s)"
      ],
      "metadata": {
        "colab": {
          "base_uri": "https://localhost:8080/"
        },
        "id": "6g9P2nRIfV01",
        "outputId": "9e60ff73-d52c-4019-b9a9-bdd7f5f10102"
      },
      "execution_count": null,
      "outputs": [
        {
          "output_type": "stream",
          "name": "stdout",
          "text": [
            "<__main__.Student object at 0x7f574acedad0>\n",
            "<__main__.Student object at 0x7f574acedad0>\n"
          ]
        }
      ]
    },
    {
      "cell_type": "code",
      "source": [
        "class Student:\n",
        "  # dunder function (init)\n",
        "  def __init__(self):\n",
        "    self.name = \"placeholder\"\n",
        "\n",
        "  def __str__(self):\n",
        "    return f\"Student's name is {self.name}\""
      ],
      "metadata": {
        "id": "sRt5t_rZhOM1"
      },
      "execution_count": null,
      "outputs": []
    },
    {
      "cell_type": "code",
      "source": [
        "s = Student()"
      ],
      "metadata": {
        "id": "lPn3TW_bhwgj"
      },
      "execution_count": null,
      "outputs": []
    },
    {
      "cell_type": "code",
      "source": [
        "print(s)"
      ],
      "metadata": {
        "colab": {
          "base_uri": "https://localhost:8080/"
        },
        "id": "VKVP8dbmhyZ2",
        "outputId": "c3f68cbd-48a4-4577-8a16-5e18dfa2d55d"
      },
      "execution_count": null,
      "outputs": [
        {
          "output_type": "stream",
          "name": "stdout",
          "text": [
            "Student's name is placeholder\n"
          ]
        }
      ]
    },
    {
      "cell_type": "code",
      "source": [
        "class List:\n",
        "  def __init__(self):\n",
        "    pass\n",
        "\n",
        "  def __str__(self):\n",
        "    return "
      ],
      "metadata": {
        "id": "uwrHzX17h20C"
      },
      "execution_count": null,
      "outputs": []
    },
    {
      "cell_type": "code",
      "source": [
        "l = [1, 2, 3, 4]"
      ],
      "metadata": {
        "id": "_D052sWPiPIx"
      },
      "execution_count": null,
      "outputs": []
    },
    {
      "cell_type": "code",
      "source": [
        "print(l)"
      ],
      "metadata": {
        "colab": {
          "base_uri": "https://localhost:8080/"
        },
        "id": "5hJhQ5R_iRli",
        "outputId": "cb68ca6e-e75f-4a6e-cfb6-e3ef366f343a"
      },
      "execution_count": null,
      "outputs": [
        {
          "output_type": "stream",
          "name": "stdout",
          "text": [
            "[1, 2, 3, 4]\n"
          ]
        }
      ]
    },
    {
      "cell_type": "code",
      "source": [
        "class Student:\n",
        "  # dunder function (init)\n",
        "  def __init__(self):\n",
        "    name = \"placeholder\""
      ],
      "metadata": {
        "id": "d5AKnlToiSeA"
      },
      "execution_count": null,
      "outputs": []
    },
    {
      "cell_type": "code",
      "source": [
        "s = Student()"
      ],
      "metadata": {
        "id": "-5a5c3_BiskE"
      },
      "execution_count": null,
      "outputs": []
    },
    {
      "cell_type": "code",
      "source": [
        "s.name"
      ],
      "metadata": {
        "colab": {
          "base_uri": "https://localhost:8080/",
          "height": 169
        },
        "id": "bRknSKooiuDp",
        "outputId": "84a4003a-ce21-4ae8-a300-446066cfe13f"
      },
      "execution_count": null,
      "outputs": [
        {
          "output_type": "error",
          "ename": "AttributeError",
          "evalue": "ignored",
          "traceback": [
            "\u001b[0;31m---------------------------------------------------------------------------\u001b[0m",
            "\u001b[0;31mAttributeError\u001b[0m                            Traceback (most recent call last)",
            "\u001b[0;32m<ipython-input-43-98b019fbfe94>\u001b[0m in \u001b[0;36m<module>\u001b[0;34m()\u001b[0m\n\u001b[0;32m----> 1\u001b[0;31m \u001b[0ms\u001b[0m\u001b[0;34m.\u001b[0m\u001b[0mname\u001b[0m\u001b[0;34m\u001b[0m\u001b[0;34m\u001b[0m\u001b[0m\n\u001b[0m",
            "\u001b[0;31mAttributeError\u001b[0m: 'Student' object has no attribute 'name'"
          ]
        }
      ]
    },
    {
      "cell_type": "code",
      "source": [
        "class Student:\n",
        "  # dunder function (init)\n",
        "  def __init__(self, name_value):\n",
        "    self.name = name_value\n",
        "\n",
        "  def __str__(self):\n",
        "    return f\"Student's name is {self.name}\""
      ],
      "metadata": {
        "id": "OVn-FvfXjQv1"
      },
      "execution_count": null,
      "outputs": []
    },
    {
      "cell_type": "code",
      "source": [
        "s = Student(\"Anant\")"
      ],
      "metadata": {
        "id": "nzFbScadkbXf"
      },
      "execution_count": null,
      "outputs": []
    },
    {
      "cell_type": "code",
      "source": [
        "s.name"
      ],
      "metadata": {
        "colab": {
          "base_uri": "https://localhost:8080/",
          "height": 35
        },
        "id": "XO_a3Abvkj-i",
        "outputId": "d08bc627-8201-4c5b-f8ab-db01a4442fff"
      },
      "execution_count": null,
      "outputs": [
        {
          "output_type": "execute_result",
          "data": {
            "text/plain": [
              "'Anant'"
            ],
            "application/vnd.google.colaboratory.intrinsic+json": {
              "type": "string"
            }
          },
          "metadata": {},
          "execution_count": 46
        }
      ]
    },
    {
      "cell_type": "code",
      "source": [
        "s2 = Student(\"Parth\")"
      ],
      "metadata": {
        "id": "MR50YzGQklBH"
      },
      "execution_count": null,
      "outputs": []
    },
    {
      "cell_type": "code",
      "source": [
        "s2.name"
      ],
      "metadata": {
        "colab": {
          "base_uri": "https://localhost:8080/",
          "height": 35
        },
        "id": "CVopqzKzkqFH",
        "outputId": "5ba264b0-3ef4-44f9-efbe-4213e9c5cacd"
      },
      "execution_count": null,
      "outputs": [
        {
          "output_type": "execute_result",
          "data": {
            "text/plain": [
              "'Parth'"
            ],
            "application/vnd.google.colaboratory.intrinsic+json": {
              "type": "string"
            }
          },
          "metadata": {},
          "execution_count": 48
        }
      ]
    },
    {
      "cell_type": "code",
      "source": [
        "print(s)"
      ],
      "metadata": {
        "colab": {
          "base_uri": "https://localhost:8080/"
        },
        "id": "3iRTz5rEksnV",
        "outputId": "b09d2348-2d38-49ef-e7bc-67f66359be2b"
      },
      "execution_count": null,
      "outputs": [
        {
          "output_type": "stream",
          "name": "stdout",
          "text": [
            "Student's name is Anant\n"
          ]
        }
      ]
    },
    {
      "cell_type": "code",
      "source": [
        "print(s2)"
      ],
      "metadata": {
        "colab": {
          "base_uri": "https://localhost:8080/"
        },
        "id": "FMhQ_fOKktqt",
        "outputId": "094bba91-de7c-4ed8-8d4a-87b034a47816"
      },
      "execution_count": null,
      "outputs": [
        {
          "output_type": "stream",
          "name": "stdout",
          "text": [
            "Student's name is Parth\n"
          ]
        }
      ]
    },
    {
      "cell_type": "code",
      "source": [
        "s3 = Student()"
      ],
      "metadata": {
        "colab": {
          "base_uri": "https://localhost:8080/",
          "height": 166
        },
        "id": "MSEZJbpOk2x4",
        "outputId": "4258eb53-0147-4f71-fde0-02cb849354cc"
      },
      "execution_count": null,
      "outputs": [
        {
          "output_type": "error",
          "ename": "TypeError",
          "evalue": "ignored",
          "traceback": [
            "\u001b[0;31m---------------------------------------------------------------------------\u001b[0m",
            "\u001b[0;31mTypeError\u001b[0m                                 Traceback (most recent call last)",
            "\u001b[0;32m<ipython-input-51-88c31a65a5cc>\u001b[0m in \u001b[0;36m<module>\u001b[0;34m()\u001b[0m\n\u001b[0;32m----> 1\u001b[0;31m \u001b[0ms3\u001b[0m \u001b[0;34m=\u001b[0m \u001b[0mStudent\u001b[0m\u001b[0;34m(\u001b[0m\u001b[0;34m)\u001b[0m\u001b[0;34m\u001b[0m\u001b[0;34m\u001b[0m\u001b[0m\n\u001b[0m",
            "\u001b[0;31mTypeError\u001b[0m: __init__() missing 1 required positional argument: 'name_value'"
          ]
        }
      ]
    },
    {
      "cell_type": "code",
      "source": [
        "class Student:\n",
        "  # dunder function (init)\n",
        "  def __init__(self, name_value=\"placeholder\"):\n",
        "    self.name = name_value\n",
        "\n",
        "  def __str__(self):\n",
        "    return f\"Student's name is {self.name}\""
      ],
      "metadata": {
        "id": "lJivmXVlk_FL"
      },
      "execution_count": null,
      "outputs": []
    },
    {
      "cell_type": "code",
      "source": [
        "s = Student(\"Anant\")\n",
        "print(s)"
      ],
      "metadata": {
        "colab": {
          "base_uri": "https://localhost:8080/"
        },
        "id": "0eGVCe_IlIM4",
        "outputId": "7ce8d157-25f7-4848-c8a9-46b07fbe8a01"
      },
      "execution_count": null,
      "outputs": [
        {
          "output_type": "stream",
          "name": "stdout",
          "text": [
            "Student's name is Anant\n"
          ]
        }
      ]
    },
    {
      "cell_type": "code",
      "source": [
        "s = Student()\n",
        "print(s)"
      ],
      "metadata": {
        "colab": {
          "base_uri": "https://localhost:8080/"
        },
        "id": "o0HGpQPFlLDr",
        "outputId": "3f028247-7062-4a50-83f3-445e29bc586e"
      },
      "execution_count": null,
      "outputs": [
        {
          "output_type": "stream",
          "name": "stdout",
          "text": [
            "Student's name is placeholder\n"
          ]
        }
      ]
    },
    {
      "cell_type": "code",
      "source": [
        "class Vehicle:\n",
        "    def __init__(self, name):\n",
        "      self.name = name"
      ],
      "metadata": {
        "id": "tOu69ddmlMeY"
      },
      "execution_count": null,
      "outputs": []
    },
    {
      "cell_type": "code",
      "source": [
        "v = Vehicle(\"minivan\")"
      ],
      "metadata": {
        "id": "z9zcxjV6mWSq"
      },
      "execution_count": null,
      "outputs": []
    },
    {
      "cell_type": "code",
      "source": [
        "v.name"
      ],
      "metadata": {
        "colab": {
          "base_uri": "https://localhost:8080/",
          "height": 35
        },
        "id": "5yrHKwkIm754",
        "outputId": "ee61b699-b095-4b43-c44b-654a82027f90"
      },
      "execution_count": null,
      "outputs": [
        {
          "output_type": "execute_result",
          "data": {
            "text/plain": [
              "'minivan'"
            ],
            "application/vnd.google.colaboratory.intrinsic+json": {
              "type": "string"
            }
          },
          "metadata": {},
          "execution_count": 62
        }
      ]
    },
    {
      "cell_type": "code",
      "source": [
        "Vehicle.__init__(v, \"suv\")"
      ],
      "metadata": {
        "id": "GE58accQm84X"
      },
      "execution_count": null,
      "outputs": []
    },
    {
      "cell_type": "code",
      "source": [
        "v.name"
      ],
      "metadata": {
        "colab": {
          "base_uri": "https://localhost:8080/",
          "height": 35
        },
        "id": "upxEws68nG4l",
        "outputId": "3374caa7-b8e6-4217-9a70-9cb1282c923a"
      },
      "execution_count": null,
      "outputs": [
        {
          "output_type": "execute_result",
          "data": {
            "text/plain": [
              "'suv'"
            ],
            "application/vnd.google.colaboratory.intrinsic+json": {
              "type": "string"
            }
          },
          "metadata": {},
          "execution_count": 64
        }
      ]
    },
    {
      "cell_type": "code",
      "source": [
        "class Student:\n",
        "  def __init__(name_value, self):\n",
        "    name_value.name= self"
      ],
      "metadata": {
        "id": "hUpriL6CnI2q"
      },
      "execution_count": null,
      "outputs": []
    },
    {
      "cell_type": "code",
      "source": [
        "s = Student(\"Anant\")"
      ],
      "metadata": {
        "id": "9EcEiMMPnn9Q"
      },
      "execution_count": null,
      "outputs": []
    },
    {
      "cell_type": "code",
      "source": [
        "s.name"
      ],
      "metadata": {
        "colab": {
          "base_uri": "https://localhost:8080/",
          "height": 35
        },
        "id": "g9CAbagInqNK",
        "outputId": "3fa36ba0-a658-4ef8-e16c-4585ee20c9f8"
      },
      "execution_count": null,
      "outputs": [
        {
          "output_type": "execute_result",
          "data": {
            "text/plain": [
              "'Anant'"
            ],
            "application/vnd.google.colaboratory.intrinsic+json": {
              "type": "string"
            }
          },
          "metadata": {},
          "execution_count": 70
        }
      ]
    },
    {
      "cell_type": "code",
      "source": [
        "class Student:\n",
        "  # dunder function (init)\n",
        "  def __init__(self, new_name, new_roll_num):\n",
        "    self.name = new_name\n",
        "    self.roll_num = new_roll_num\n",
        "\n",
        "  def __str__(self):\n",
        "    return f\"Student's name is {self.name} and roll number is {self.roll_num}\""
      ],
      "metadata": {
        "id": "GeK7MIsYnrEv"
      },
      "execution_count": null,
      "outputs": []
    },
    {
      "cell_type": "code",
      "source": [
        "s1 = Student(\"Anant\", 1)\n",
        "s2 = Student(\"Mudit\", 2)"
      ],
      "metadata": {
        "id": "Qr9EUxrZoUJ9"
      },
      "execution_count": null,
      "outputs": []
    },
    {
      "cell_type": "code",
      "source": [
        "print(s1)\n",
        "print(s2)"
      ],
      "metadata": {
        "colab": {
          "base_uri": "https://localhost:8080/"
        },
        "id": "oPWUPF_loUWe",
        "outputId": "b984953a-a714-4bae-d554-3df697c67c8b"
      },
      "execution_count": null,
      "outputs": [
        {
          "output_type": "stream",
          "name": "stdout",
          "text": [
            "Student's name is Anant and roll number is 1\n",
            "Student's name is Mudit and roll number is 2\n"
          ]
        }
      ]
    },
    {
      "cell_type": "code",
      "source": [
        "class Student:\n",
        "  counter = 0 # class variable\n",
        "  # dunder function (init)\n",
        "  def __init__(self, new_name):\n",
        "    self.name = new_name\n",
        "    Student.counter += 1\n",
        "    self.roll_num = Student.counter\n",
        "\n",
        "  def __str__(self):\n",
        "    return f\"Student's name is {self.name} and roll number is {self.roll_num}\""
      ],
      "metadata": {
        "id": "2QURVekwo26G"
      },
      "execution_count": null,
      "outputs": []
    },
    {
      "cell_type": "code",
      "source": [
        "s1 = Student(\"Anant\")\n",
        "s2 = Student(\"Mudit\")\n",
        "s3 = Student(\"Mohit\")"
      ],
      "metadata": {
        "id": "0y-xMndBp650"
      },
      "execution_count": null,
      "outputs": []
    },
    {
      "cell_type": "code",
      "source": [
        "print(s1)\n",
        "print(s2)\n",
        "print(s3)"
      ],
      "metadata": {
        "colab": {
          "base_uri": "https://localhost:8080/"
        },
        "id": "gE14APrvp-9w",
        "outputId": "ef2b9e1b-3294-4e71-bfc4-f8c019aeee87"
      },
      "execution_count": null,
      "outputs": [
        {
          "output_type": "stream",
          "name": "stdout",
          "text": [
            "Student's name is Anant and roll number is 1\n",
            "Student's name is Mudit and roll number is 2\n",
            "Student's name is Mohit and roll number is 3\n"
          ]
        }
      ]
    },
    {
      "cell_type": "code",
      "source": [
        "Student.counter"
      ],
      "metadata": {
        "colab": {
          "base_uri": "https://localhost:8080/"
        },
        "id": "ollsF0EnqCAQ",
        "outputId": "f5362d18-faf8-49e7-91e6-5f7c5c7ba683"
      },
      "execution_count": null,
      "outputs": [
        {
          "output_type": "execute_result",
          "data": {
            "text/plain": [
              "3"
            ]
          },
          "metadata": {},
          "execution_count": 84
        }
      ]
    },
    {
      "cell_type": "code",
      "source": [
        "print(s1.counter)\n",
        "print(s2.counter)\n",
        "print(s3.counter)"
      ],
      "metadata": {
        "colab": {
          "base_uri": "https://localhost:8080/"
        },
        "id": "Zd1vu5qUrxFt",
        "outputId": "1e500b7f-b601-482c-f078-79a8f746dc9b"
      },
      "execution_count": null,
      "outputs": [
        {
          "output_type": "stream",
          "name": "stdout",
          "text": [
            "3\n",
            "3\n",
            "3\n"
          ]
        }
      ]
    },
    {
      "cell_type": "code",
      "source": [
        "print(s1.roll_num)\n",
        "print(s2.roll_num)\n",
        "print(s3.roll_num)"
      ],
      "metadata": {
        "colab": {
          "base_uri": "https://localhost:8080/"
        },
        "id": "ANSw6eztrxjC",
        "outputId": "4669bca4-bda8-49ad-ee03-ec083e145e94"
      },
      "execution_count": null,
      "outputs": [
        {
          "output_type": "stream",
          "name": "stdout",
          "text": [
            "1\n",
            "2\n",
            "3\n"
          ]
        }
      ]
    },
    {
      "cell_type": "code",
      "source": [
        "Student.counter = 1000"
      ],
      "metadata": {
        "id": "_la8Pt0yryL_"
      },
      "execution_count": null,
      "outputs": []
    },
    {
      "cell_type": "code",
      "source": [
        "Student.counter"
      ],
      "metadata": {
        "colab": {
          "base_uri": "https://localhost:8080/"
        },
        "id": "dD8KULbgryr5",
        "outputId": "f3ef45c8-acf8-4a34-fde7-38f8204bfa07"
      },
      "execution_count": null,
      "outputs": [
        {
          "output_type": "execute_result",
          "data": {
            "text/plain": [
              "1000"
            ]
          },
          "metadata": {},
          "execution_count": 89
        }
      ]
    },
    {
      "cell_type": "code",
      "source": [
        "print(s1.counter)\n",
        "print(s2.counter)\n",
        "print(s3.counter)"
      ],
      "metadata": {
        "colab": {
          "base_uri": "https://localhost:8080/"
        },
        "id": "dXpMS3GGrzFL",
        "outputId": "72360ac3-6b62-464c-cde8-2aec28b9e479"
      },
      "execution_count": null,
      "outputs": [
        {
          "output_type": "stream",
          "name": "stdout",
          "text": [
            "1000\n",
            "1000\n",
            "1000\n"
          ]
        }
      ]
    },
    {
      "cell_type": "code",
      "source": [
        "class Student:\n",
        "    \n",
        "    counter = 100\n",
        "    \n",
        "    def __init__(self, newName):\n",
        "        self.name = newName\n",
        "        Student.counter += 1\n",
        "        self.rollNum = Student.counter\n",
        "        \n",
        "    def __str__(self):\n",
        "        return f\"{self.rollNum}. {self.name}\"\n",
        "\n",
        "s1 = Student(\"Anant\")\n",
        "s2 = Student(\"Mudit\")\n",
        "s3 = Student(\"Priya\")\n",
        "\n",
        "print(s1)\n",
        "print(s2)\n",
        "print(s3)"
      ],
      "metadata": {
        "colab": {
          "base_uri": "https://localhost:8080/"
        },
        "id": "snp8QpY3rzxd",
        "outputId": "5c396a41-3c89-4c34-b465-a5608dbe5a5d"
      },
      "execution_count": null,
      "outputs": [
        {
          "output_type": "stream",
          "name": "stdout",
          "text": [
            "101. Anant\n",
            "102. Mudit\n",
            "103. Priya\n",
            "--------------------------------------------------\n"
          ]
        }
      ]
    },
    {
      "cell_type": "code",
      "source": [
        "s1.counter = 10000"
      ],
      "metadata": {
        "id": "LY2so929uc85"
      },
      "execution_count": null,
      "outputs": []
    },
    {
      "cell_type": "code",
      "source": [
        "print(Student.counter)\n",
        "print(s1.counter)\n",
        "print(s2.counter)\n",
        "print(s3.counter)"
      ],
      "metadata": {
        "colab": {
          "base_uri": "https://localhost:8080/"
        },
        "id": "gGyVDNxAuk9h",
        "outputId": "2f748ae2-8c3b-412a-961b-0d0acfe2f8fe"
      },
      "execution_count": null,
      "outputs": [
        {
          "output_type": "stream",
          "name": "stdout",
          "text": [
            "103\n",
            "10000\n",
            "103\n",
            "103\n"
          ]
        }
      ]
    },
    {
      "cell_type": "code",
      "source": [
        "class Vehicle:\n",
        "    country = \"India\"\n",
        "    \n",
        "    def __init__(self, name, mileage):\n",
        "        self.name = name\n",
        "        self.mileage = mileage\n",
        "\n",
        "    def __str__(self):\n",
        "        return 'Vehicle Name={} \\nMileage={}'.format(self.name, self.mileage)\n",
        "\n",
        "v1 = Vehicle(\"minivan\", 10)\n",
        "\n",
        "print(v1.country)\n",
        "v1.country = \"USA\"\n",
        "print(Vehicle.country)\n",
        "print(v1.country)"
      ],
      "metadata": {
        "colab": {
          "base_uri": "https://localhost:8080/"
        },
        "id": "Fx4PlBNwu7GA",
        "outputId": "bea9559c-1721-4db7-c9fa-4732ee73cf7a"
      },
      "execution_count": null,
      "outputs": [
        {
          "output_type": "stream",
          "name": "stdout",
          "text": [
            "India\n",
            "India\n",
            "USA\n"
          ]
        }
      ]
    },
    {
      "cell_type": "code",
      "source": [
        "class Student:\n",
        "    counter = 0\n",
        "\n",
        "    def __init__(self, newName):\n",
        "        self.name = newName\n",
        "        Student.counter += 1\n",
        "        self.rollNum = Student.counter\n",
        "        \n",
        "    def __str__(self):\n",
        "        return f\"{self.rollNum}. {self.name}\"\n",
        "\n",
        "    def intro(self):\n",
        "      print(f\"Hello my name is {self.name}\")\n",
        "\n",
        "s = Student(\"Anant\")\n",
        "s.intro()"
      ],
      "metadata": {
        "colab": {
          "base_uri": "https://localhost:8080/"
        },
        "id": "fdprDmiMwvBw",
        "outputId": "316ab297-7df2-4907-f6f4-16d1e4a9bfb4"
      },
      "execution_count": null,
      "outputs": [
        {
          "output_type": "stream",
          "name": "stdout",
          "text": [
            "Hello my name is Anant\n"
          ]
        }
      ]
    },
    {
      "cell_type": "code",
      "source": [
        "# create a class Account\n",
        "# id, bal (get it as an argument)\n",
        "# a1, id=1, bal=100\n",
        "# a2 id=2, bal=0"
      ],
      "metadata": {
        "id": "abVg7yQtxJIi"
      },
      "execution_count": null,
      "outputs": []
    },
    {
      "cell_type": "code",
      "source": [
        "class Account:\n",
        "\n",
        "  counter = 0\n",
        "\n",
        "  def __init__(self, opening_bal=0):\n",
        "    Account.counter += 1\n",
        "    self.id = Account.counter\n",
        "    self.bal = opening_bal\n",
        "\n",
        "  def __str__(self):\n",
        "    return f\"Account Number: {self.id}, Account Balance: {self.bal}\""
      ],
      "metadata": {
        "id": "CxXDlWGkx7cx"
      },
      "execution_count": null,
      "outputs": []
    },
    {
      "cell_type": "code",
      "source": [
        "a1 = Account(100)\n",
        "a2 = Account()"
      ],
      "metadata": {
        "id": "gxcF9CQKy8Pj"
      },
      "execution_count": null,
      "outputs": []
    },
    {
      "cell_type": "code",
      "source": [
        "print(a1)\n",
        "print(a2)"
      ],
      "metadata": {
        "colab": {
          "base_uri": "https://localhost:8080/"
        },
        "id": "BotpMa93zDpj",
        "outputId": "6c3ea8ce-f8b3-46fe-a66b-cddf7b61c129"
      },
      "execution_count": null,
      "outputs": [
        {
          "output_type": "stream",
          "name": "stdout",
          "text": [
            "Account Number: 1, Account Balance: 100\n",
            "Account Number: 2, Account Balance: 0\n"
          ]
        }
      ]
    },
    {
      "cell_type": "code",
      "source": [
        "class Account:\n",
        "\n",
        "  counter = 0\n",
        "\n",
        "  def __init__(self, opening_bal=0):\n",
        "    Account.counter += 1\n",
        "    self.id = Account.counter\n",
        "    self.bal = opening_bal\n",
        "\n",
        "  def __str__(self):\n",
        "    return f\"Account Number: {self.id}, Account Balance: {self.bal}\"\n",
        "\n",
        "  def deposit(self, amount):\n",
        "    self.bal += amount"
      ],
      "metadata": {
        "id": "scbHwOdyzFiv"
      },
      "execution_count": null,
      "outputs": []
    },
    {
      "cell_type": "code",
      "source": [
        "a1 = Account(100)\n",
        "a2 = Account()\n",
        "a1.deposit(50)\n",
        "print(a1)\n",
        "print(a2)"
      ],
      "metadata": {
        "colab": {
          "base_uri": "https://localhost:8080/"
        },
        "id": "9-tG7YpAzfhV",
        "outputId": "2be6c0b4-7ab7-4cbb-fd71-7cd0f5062f83"
      },
      "execution_count": null,
      "outputs": [
        {
          "output_type": "stream",
          "name": "stdout",
          "text": [
            "Account Number: 1, Account Balance: 150\n",
            "Account Number: 2, Account Balance: 0\n"
          ]
        }
      ]
    },
    {
      "cell_type": "code",
      "source": [
        "class Account:\n",
        "  counter = 0\n",
        "  def __init__(self, opening_bal=0):\n",
        "    Account.counter += 1\n",
        "    self.id = Account.counter\n",
        "    self.bal = opening_bal\n",
        "\n",
        "  def __str__(self):\n",
        "    return f\"Account Number: {self.id}, Account Balance: {self.bal}\"\n",
        "\n",
        "  def deposit(self, amount):\n",
        "    if amount > 0:\n",
        "      self.bal += amount\n",
        "\n",
        "  def withdraw(self, amount):\n",
        "    if amount > 0 and self.bal >= amount:\n",
        "      self.bal -= amount\n",
        "      return True\n",
        "    else:\n",
        "      return False\n",
        "\n",
        "a1 = Account(100)\n",
        "a2 = Account()\n",
        "a1.deposit(50)\n",
        "a2.withdraw(30)\n",
        "print(a1)\n",
        "print(a2)"
      ],
      "metadata": {
        "colab": {
          "base_uri": "https://localhost:8080/"
        },
        "id": "WlpBKg0CzsRT",
        "outputId": "704b9509-7ada-420a-876f-a589aa5081c9"
      },
      "execution_count": null,
      "outputs": [
        {
          "output_type": "stream",
          "name": "stdout",
          "text": [
            "Account Number: 1, Account Balance: 150\n",
            "Account Number: 2, Account Balance: 0\n"
          ]
        }
      ]
    },
    {
      "cell_type": "code",
      "source": [
        "class Account:\n",
        "  counter = 0\n",
        "  def __init__(self, opening_bal=0):\n",
        "    Account.counter += 1\n",
        "    self.id = Account.counter\n",
        "    self.bal = opening_bal\n",
        "\n",
        "  def __str__(self):\n",
        "    return f\"Account Number: {self.id}, Account Balance: {self.bal}\"\n",
        "\n",
        "  def deposit(self, amount):\n",
        "    if amount > 0:\n",
        "      self.bal += amount\n",
        "\n",
        "  def withdraw(self, amount):\n",
        "    if amount > 0 and self.bal >= amount:\n",
        "      self.bal -= amount\n",
        "      return True\n",
        "    else:\n",
        "      return False\n",
        "  \n",
        "  def __repr__(self):\n",
        "    return f\"{self.id}\"\n",
        "\n",
        "  # def __myspecialdunder__(self):\n",
        "  #   print(\"This is special\")\n",
        "\n",
        "a1 = Account(100)\n",
        "a2 = Account()\n",
        "a1.deposit(50)\n",
        "a2.withdraw(30)\n",
        "print(a1)\n",
        "print(a2)\n"
      ],
      "metadata": {
        "colab": {
          "base_uri": "https://localhost:8080/"
        },
        "id": "REaLF6wb0EHS",
        "outputId": "b36cf63f-a590-4971-d394-2d1ced52f592"
      },
      "execution_count": null,
      "outputs": [
        {
          "output_type": "stream",
          "name": "stdout",
          "text": [
            "Account Number: 1, Account Balance: 150\n",
            "Account Number: 2, Account Balance: 0\n"
          ]
        }
      ]
    },
    {
      "cell_type": "code",
      "source": [
        "str(a2)"
      ],
      "metadata": {
        "colab": {
          "base_uri": "https://localhost:8080/",
          "height": 35
        },
        "id": "kXpZFDr91HP7",
        "outputId": "643f1865-237f-4d54-b0cc-6463e0a84197"
      },
      "execution_count": null,
      "outputs": [
        {
          "output_type": "execute_result",
          "data": {
            "text/plain": [
              "'Account Number: 2, Account Balance: 0'"
            ],
            "application/vnd.google.colaboratory.intrinsic+json": {
              "type": "string"
            }
          },
          "metadata": {},
          "execution_count": 119
        }
      ]
    },
    {
      "cell_type": "code",
      "source": [
        "a2.__str__()"
      ],
      "metadata": {
        "colab": {
          "base_uri": "https://localhost:8080/",
          "height": 35
        },
        "id": "jfuXfJZI1JC0",
        "outputId": "734c416f-b69b-46a3-c7c5-fc0bfd07788f"
      },
      "execution_count": null,
      "outputs": [
        {
          "output_type": "execute_result",
          "data": {
            "text/plain": [
              "'Account Number: 2, Account Balance: 0'"
            ],
            "application/vnd.google.colaboratory.intrinsic+json": {
              "type": "string"
            }
          },
          "metadata": {},
          "execution_count": 120
        }
      ]
    },
    {
      "cell_type": "code",
      "source": [
        "repr(a2)"
      ],
      "metadata": {
        "colab": {
          "base_uri": "https://localhost:8080/",
          "height": 35
        },
        "id": "aCJU9hta1OKR",
        "outputId": "b13a57f1-d9a3-48e2-8fff-e108f3a4ac62"
      },
      "execution_count": null,
      "outputs": [
        {
          "output_type": "execute_result",
          "data": {
            "text/plain": [
              "'2'"
            ],
            "application/vnd.google.colaboratory.intrinsic+json": {
              "type": "string"
            }
          },
          "metadata": {},
          "execution_count": 121
        }
      ]
    },
    {
      "cell_type": "code",
      "source": [
        "a2.__repr__()"
      ],
      "metadata": {
        "colab": {
          "base_uri": "https://localhost:8080/",
          "height": 35
        },
        "id": "a0lpoIle1W43",
        "outputId": "9962cf2c-95fd-4424-cfa7-0c879aec62b0"
      },
      "execution_count": null,
      "outputs": [
        {
          "output_type": "execute_result",
          "data": {
            "text/plain": [
              "'2'"
            ],
            "application/vnd.google.colaboratory.intrinsic+json": {
              "type": "string"
            }
          },
          "metadata": {},
          "execution_count": 122
        }
      ]
    },
    {
      "cell_type": "code",
      "source": [
        "# Inheritance"
      ],
      "metadata": {
        "id": "NLg1ZeB_1sNW"
      },
      "execution_count": null,
      "outputs": []
    },
    {
      "cell_type": "code",
      "source": [
        "class Account:\n",
        "    counter = 0  \n",
        "    def __init__(self, openingBal=0):\n",
        "        Account.counter += 1\n",
        "        self.id = Account.counter\n",
        "        self.bal = openingBal\n",
        "        self.num_transactions = 0\n",
        "        self.max_transactions = 5\n",
        "        \n",
        "    def deposit(self, amount):\n",
        "        if amount >= 0 and self.num_transactions < self.max_transactions:\n",
        "            self.bal += amount\n",
        "            self.num_transactions += 1\n",
        "        \n",
        "    def withdraw(self, amount):\n",
        "        if amount >= 0 and self.bal >= amount and self.num_transactions < self.max_transactions:\n",
        "            self.bal -= amount\n",
        "            self.num_transactions += 1\n",
        "        \n",
        "    def __str__(self):\n",
        "        return f\"Acc {self.id} has Rs.{self.bal}\"\n",
        "    \n",
        "    def __repr__(self):\n",
        "        return f\"{id}\""
      ],
      "metadata": {
        "id": "6LxTC4Xj16wc"
      },
      "execution_count": null,
      "outputs": []
    },
    {
      "cell_type": "code",
      "source": [
        "class SavingsAccount(Account):\n",
        "  pass"
      ],
      "metadata": {
        "id": "TrEUvvqE17Iw"
      },
      "execution_count": null,
      "outputs": []
    },
    {
      "cell_type": "code",
      "source": [
        "class CurrentAccount(Account):\n",
        "  pass"
      ],
      "metadata": {
        "id": "xoKv4W_i17cu"
      },
      "execution_count": null,
      "outputs": []
    },
    {
      "cell_type": "code",
      "source": [
        "s1 = SavingsAccount()"
      ],
      "metadata": {
        "id": "LvR6f3Aq3S9T"
      },
      "execution_count": null,
      "outputs": []
    },
    {
      "cell_type": "code",
      "source": [
        "c1 = CurrentAccount()"
      ],
      "metadata": {
        "id": "bN5_ytGK3amJ"
      },
      "execution_count": null,
      "outputs": []
    },
    {
      "cell_type": "code",
      "source": [
        "print(s1)"
      ],
      "metadata": {
        "colab": {
          "base_uri": "https://localhost:8080/"
        },
        "id": "S5WIhj0x3dKn",
        "outputId": "36952684-b2c2-4168-a6c1-8f97097b6ae2"
      },
      "execution_count": null,
      "outputs": [
        {
          "output_type": "stream",
          "name": "stdout",
          "text": [
            "Acc 1 has Rs.0\n"
          ]
        }
      ]
    },
    {
      "cell_type": "code",
      "source": [
        "print(c1)"
      ],
      "metadata": {
        "colab": {
          "base_uri": "https://localhost:8080/"
        },
        "id": "jV_frw1S3hWf",
        "outputId": "19e50889-b183-40d9-e276-b31447e41064"
      },
      "execution_count": null,
      "outputs": [
        {
          "output_type": "stream",
          "name": "stdout",
          "text": [
            "Acc 2 has Rs.0\n"
          ]
        }
      ]
    },
    {
      "cell_type": "code",
      "source": [
        "s1.deposit(100)"
      ],
      "metadata": {
        "id": "vvqi5APX3iov"
      },
      "execution_count": null,
      "outputs": []
    },
    {
      "cell_type": "code",
      "source": [
        "print(s1)"
      ],
      "metadata": {
        "colab": {
          "base_uri": "https://localhost:8080/"
        },
        "id": "O9i-V5Qq31cq",
        "outputId": "435a8f32-e0e4-46f2-e03c-3cf496520a4f"
      },
      "execution_count": null,
      "outputs": [
        {
          "output_type": "stream",
          "name": "stdout",
          "text": [
            "Acc 1 has Rs.100\n"
          ]
        }
      ]
    },
    {
      "cell_type": "code",
      "source": [
        "s1.deposit(20)"
      ],
      "metadata": {
        "id": "Rq8Wb0WB32Ih"
      },
      "execution_count": null,
      "outputs": []
    },
    {
      "cell_type": "code",
      "source": [
        "print(s1)"
      ],
      "metadata": {
        "colab": {
          "base_uri": "https://localhost:8080/"
        },
        "id": "8GklvXzp4qK1",
        "outputId": "938b04c3-1108-4e7f-cfb8-c28144cd90fe"
      },
      "execution_count": null,
      "outputs": [
        {
          "output_type": "stream",
          "name": "stdout",
          "text": [
            "Acc 1 has Rs.120\n"
          ]
        }
      ]
    },
    {
      "cell_type": "code",
      "source": [
        "s1.deposit(40)"
      ],
      "metadata": {
        "id": "o6aTXEoY4rLY"
      },
      "execution_count": null,
      "outputs": []
    },
    {
      "cell_type": "code",
      "source": [
        "print(s1)"
      ],
      "metadata": {
        "colab": {
          "base_uri": "https://localhost:8080/"
        },
        "id": "UlLAAgZe4s_D",
        "outputId": "426f6a24-dff9-4523-d590-62fb93721d06"
      },
      "execution_count": null,
      "outputs": [
        {
          "output_type": "stream",
          "name": "stdout",
          "text": [
            "Acc 1 has Rs.160\n"
          ]
        }
      ]
    },
    {
      "cell_type": "code",
      "source": [
        "s1.deposit(100)"
      ],
      "metadata": {
        "id": "iVdC3wvR4tuE"
      },
      "execution_count": null,
      "outputs": []
    },
    {
      "cell_type": "code",
      "source": [
        "print(s1)"
      ],
      "metadata": {
        "colab": {
          "base_uri": "https://localhost:8080/"
        },
        "id": "hsdutq3b4vXe",
        "outputId": "e2b21705-3102-46b8-8b3b-ada358244c10"
      },
      "execution_count": null,
      "outputs": [
        {
          "output_type": "stream",
          "name": "stdout",
          "text": [
            "Acc 1 has Rs.260\n"
          ]
        }
      ]
    },
    {
      "cell_type": "code",
      "source": [
        "s1.deposit(50)"
      ],
      "metadata": {
        "id": "9kOBFbZ04wCM"
      },
      "execution_count": null,
      "outputs": []
    },
    {
      "cell_type": "code",
      "source": [
        "print(s1)"
      ],
      "metadata": {
        "colab": {
          "base_uri": "https://localhost:8080/"
        },
        "id": "AZ8OXvKq4yD_",
        "outputId": "19ada1df-db86-4707-fee7-7a7dfa606899"
      },
      "execution_count": null,
      "outputs": [
        {
          "output_type": "stream",
          "name": "stdout",
          "text": [
            "Acc 1 has Rs.310\n"
          ]
        }
      ]
    },
    {
      "cell_type": "code",
      "source": [
        "s1.deposit(100)"
      ],
      "metadata": {
        "id": "WCLxEAtv4zGT"
      },
      "execution_count": null,
      "outputs": []
    },
    {
      "cell_type": "code",
      "source": [
        "print(s1)"
      ],
      "metadata": {
        "colab": {
          "base_uri": "https://localhost:8080/"
        },
        "id": "gin9IWyd418F",
        "outputId": "10d4969b-4d24-45b9-e921-dad1b403b0e1"
      },
      "execution_count": null,
      "outputs": [
        {
          "output_type": "stream",
          "name": "stdout",
          "text": [
            "Acc 1 has Rs.310\n"
          ]
        }
      ]
    },
    {
      "cell_type": "code",
      "source": [
        "class Account:\n",
        "    counter = 0  \n",
        "    def __init__(self, openingBal=0):\n",
        "        Account.counter += 1\n",
        "        self.id = Account.counter\n",
        "        self.bal = openingBal\n",
        "        self.num_transactions = 0\n",
        "        self.max_transactions = 5\n",
        "        \n",
        "    def deposit(self, amount):\n",
        "        if amount >= 0 and self.num_transactions < self.max_transactions:\n",
        "            self.bal += amount\n",
        "            self.num_transactions += 1\n",
        "        \n",
        "    def withdraw(self, amount):\n",
        "        if amount >= 0 and self.bal >= amount and self.num_transactions < self.max_transactions:\n",
        "            self.bal -= amount\n",
        "            self.num_transactions += 1\n",
        "        \n",
        "    def __str__(self):\n",
        "        return f\"Acc {self.id} has Rs.{self.bal}\"\n",
        "    \n",
        "    def __repr__(self):\n",
        "        return f\"{id}\"\n",
        "\n",
        "class SavingsAccount(Account):\n",
        "  pass\n",
        "\n",
        "class CurrentAccount(Account):\n",
        "  def __init__(self):\n",
        "    self.max_transactions = 100"
      ],
      "metadata": {
        "id": "gbWNZgB_42yj"
      },
      "execution_count": null,
      "outputs": []
    },
    {
      "cell_type": "code",
      "source": [
        "s1 = SavingsAccount()\n",
        "s1.deposit(100)\n",
        "s1.deposit(4)\n",
        "print(s1)"
      ],
      "metadata": {
        "colab": {
          "base_uri": "https://localhost:8080/"
        },
        "id": "vl2gc47u5n5B",
        "outputId": "9bb0f5da-4762-4dce-b927-4ba75c504b35"
      },
      "execution_count": null,
      "outputs": [
        {
          "output_type": "stream",
          "name": "stdout",
          "text": [
            "Acc 1 has Rs.104\n"
          ]
        }
      ]
    },
    {
      "cell_type": "code",
      "source": [
        "c1 = CurrentAccount()\n",
        "c1.deposit(100)\n",
        "c1.deposit(4)\n",
        "print(c1)"
      ],
      "metadata": {
        "colab": {
          "base_uri": "https://localhost:8080/",
          "height": 339
        },
        "id": "egh95hDw5tsO",
        "outputId": "51d210d4-7d8a-4fcd-e887-c948070874f4"
      },
      "execution_count": null,
      "outputs": [
        {
          "output_type": "error",
          "ename": "AttributeError",
          "evalue": "ignored",
          "traceback": [
            "\u001b[0;31m---------------------------------------------------------------------------\u001b[0m",
            "\u001b[0;31mAttributeError\u001b[0m                            Traceback (most recent call last)",
            "\u001b[0;32m<ipython-input-174-c3483529a6e0>\u001b[0m in \u001b[0;36m<module>\u001b[0;34m()\u001b[0m\n\u001b[1;32m      1\u001b[0m \u001b[0mc1\u001b[0m \u001b[0;34m=\u001b[0m \u001b[0mCurrentAccount\u001b[0m\u001b[0;34m(\u001b[0m\u001b[0;34m)\u001b[0m\u001b[0;34m\u001b[0m\u001b[0;34m\u001b[0m\u001b[0m\n\u001b[0;32m----> 2\u001b[0;31m \u001b[0mc1\u001b[0m\u001b[0;34m.\u001b[0m\u001b[0mdeposit\u001b[0m\u001b[0;34m(\u001b[0m\u001b[0;36m100\u001b[0m\u001b[0;34m)\u001b[0m\u001b[0;34m\u001b[0m\u001b[0;34m\u001b[0m\u001b[0m\n\u001b[0m\u001b[1;32m      3\u001b[0m \u001b[0mc1\u001b[0m\u001b[0;34m.\u001b[0m\u001b[0mdeposit\u001b[0m\u001b[0;34m(\u001b[0m\u001b[0;36m4\u001b[0m\u001b[0;34m)\u001b[0m\u001b[0;34m\u001b[0m\u001b[0;34m\u001b[0m\u001b[0m\n\u001b[1;32m      4\u001b[0m \u001b[0mprint\u001b[0m\u001b[0;34m(\u001b[0m\u001b[0mc1\u001b[0m\u001b[0;34m)\u001b[0m\u001b[0;34m\u001b[0m\u001b[0;34m\u001b[0m\u001b[0m\n",
            "\u001b[0;32m<ipython-input-172-a727d00559aa>\u001b[0m in \u001b[0;36mdeposit\u001b[0;34m(self, amount)\u001b[0m\n\u001b[1;32m      9\u001b[0m \u001b[0;34m\u001b[0m\u001b[0m\n\u001b[1;32m     10\u001b[0m     \u001b[0;32mdef\u001b[0m \u001b[0mdeposit\u001b[0m\u001b[0;34m(\u001b[0m\u001b[0mself\u001b[0m\u001b[0;34m,\u001b[0m \u001b[0mamount\u001b[0m\u001b[0;34m)\u001b[0m\u001b[0;34m:\u001b[0m\u001b[0;34m\u001b[0m\u001b[0;34m\u001b[0m\u001b[0m\n\u001b[0;32m---> 11\u001b[0;31m         \u001b[0;32mif\u001b[0m \u001b[0mamount\u001b[0m \u001b[0;34m>=\u001b[0m \u001b[0;36m0\u001b[0m \u001b[0;32mand\u001b[0m \u001b[0mself\u001b[0m\u001b[0;34m.\u001b[0m\u001b[0mnum_transactions\u001b[0m \u001b[0;34m<\u001b[0m \u001b[0mself\u001b[0m\u001b[0;34m.\u001b[0m\u001b[0mmax_transactions\u001b[0m\u001b[0;34m:\u001b[0m\u001b[0;34m\u001b[0m\u001b[0;34m\u001b[0m\u001b[0m\n\u001b[0m\u001b[1;32m     12\u001b[0m             \u001b[0mself\u001b[0m\u001b[0;34m.\u001b[0m\u001b[0mbal\u001b[0m \u001b[0;34m+=\u001b[0m \u001b[0mamount\u001b[0m\u001b[0;34m\u001b[0m\u001b[0;34m\u001b[0m\u001b[0m\n\u001b[1;32m     13\u001b[0m             \u001b[0mself\u001b[0m\u001b[0;34m.\u001b[0m\u001b[0mnum_transactions\u001b[0m \u001b[0;34m+=\u001b[0m \u001b[0;36m1\u001b[0m\u001b[0;34m\u001b[0m\u001b[0;34m\u001b[0m\u001b[0m\n",
            "\u001b[0;31mAttributeError\u001b[0m: 'CurrentAccount' object has no attribute 'num_transactions'"
          ]
        }
      ]
    },
    {
      "cell_type": "code",
      "source": [
        "class Account:\n",
        "    counter = 0  \n",
        "    def __init__(self, openingBal=0):\n",
        "        Account.counter += 1\n",
        "        self.id = Account.counter\n",
        "        self.bal = openingBal\n",
        "        self.num_transactions = 0\n",
        "        self.max_transactions = 2\n",
        "        \n",
        "    def deposit(self, amount):\n",
        "        if amount >= 0 and self.num_transactions < self.max_transactions:\n",
        "            self.bal += amount\n",
        "            self.num_transactions += 1\n",
        "        \n",
        "    def withdraw(self, amount):\n",
        "        if amount >= 0 and self.bal >= amount and self.num_transactions < self.max_transactions:\n",
        "            self.bal -= amount\n",
        "            self.num_transactions += 1\n",
        "        \n",
        "    def __str__(self):\n",
        "        return f\"Acc {self.id} has Rs.{self.bal}\"\n",
        "    \n",
        "    def __repr__(self):\n",
        "        return f\"{id}\"\n",
        "\n",
        "class SavingsAccount(Account):\n",
        "  pass\n",
        "\n",
        "class CurrentAccount(Account):\n",
        "  def __init__(self):\n",
        "    super().__init__()\n",
        "    self.max_transactions = 5"
      ],
      "metadata": {
        "id": "XSu7DADN5zyV"
      },
      "execution_count": null,
      "outputs": []
    },
    {
      "cell_type": "code",
      "source": [
        "s1 = SavingsAccount()\n",
        "s1.deposit(100)\n",
        "s1.deposit(4)\n",
        "s1.deposit(1000)\n",
        "print(s1)"
      ],
      "metadata": {
        "colab": {
          "base_uri": "https://localhost:8080/"
        },
        "id": "54JO-sCq6cCj",
        "outputId": "56492f95-3532-43ef-efd0-a0ef9c564788"
      },
      "execution_count": null,
      "outputs": [
        {
          "output_type": "stream",
          "name": "stdout",
          "text": [
            "Acc 1 has Rs.104\n"
          ]
        }
      ]
    },
    {
      "cell_type": "code",
      "source": [
        "s1 = CurrentAccount()\n",
        "s1.deposit(100)\n",
        "s1.deposit(4)\n",
        "s1.deposit(1000)\n",
        "print(s1)"
      ],
      "metadata": {
        "colab": {
          "base_uri": "https://localhost:8080/"
        },
        "id": "AW5FMcf_6kUa",
        "outputId": "2dd17151-a6e3-482f-eb08-0ac3799fb1bc"
      },
      "execution_count": null,
      "outputs": [
        {
          "output_type": "stream",
          "name": "stdout",
          "text": [
            "Acc 2 has Rs.1104\n"
          ]
        }
      ]
    },
    {
      "cell_type": "code",
      "source": [
        "# Private Variables - __anant\n",
        "# Polymporphism - calculate_interest()"
      ],
      "metadata": {
        "id": "vJa2iMyn7TAZ"
      },
      "execution_count": null,
      "outputs": []
    },
    {
      "cell_type": "code",
      "source": [
        "class Account:\n",
        "    \n",
        "    counter = 0\n",
        "    \n",
        "    def __init__(self, openingBal=0):\n",
        "        Account.counter += 1\n",
        "        self.id = Account.counter\n",
        "        self.bal = openingBal\n",
        "        self.numTrans = 0\n",
        "        self.maxTrans = 2\n",
        "        \n",
        "    def deposit(self, amount):\n",
        "        if amount >= 0 and self.numTrans < self.maxTrans: \n",
        "            self.bal += amount\n",
        "            self.numTrans += 1\n",
        "            \n",
        "    def withdraw(self, amount):\n",
        "        if amount >= 0 and self.bal >= amount and self.numTrans < self.maxTrans:\n",
        "            self.bal -= amount\n",
        "            self.numTrans += 1\n",
        "            \n",
        "    def getInterest(self): # new\n",
        "        pass\n",
        "        \n",
        "        \n",
        "    def __str__(self):\n",
        "        return f\"Acc {self.id} has {self.bal}\"  # new --> self.__bal\n",
        "    \n",
        "    def __repr__(self):\n",
        "        return f\"{id}\"\n",
        "\n",
        "class SavingsAccount(Account): \n",
        "    def __init__(self):\n",
        "        super().__init__()\n",
        "    \n",
        "    def getInterest(self):  # new - Interest calculation for Savings Account\n",
        "        interest = self.bal*0.07\n",
        "        print(f\"Interest on Account {self.id} is {interest}\")\n",
        "        \n",
        "\n",
        "class CurrentAccount(Account):\n",
        "    def __init__(self):\n",
        "        super().__init__()  \n",
        "        self.maxTrans = 3\n",
        "    \n",
        "    def getInterest(self):  # new - Interest calculation for Current Account\n",
        "        interest = (self.bal*0.05)/self.numTrans\n",
        "        print(f\"Interest on Account {self.id} is {interest}\")"
      ],
      "metadata": {
        "id": "mewWQnrk7218"
      },
      "execution_count": null,
      "outputs": []
    },
    {
      "cell_type": "code",
      "source": [
        "class Student:\n",
        "  pass\n",
        "\n",
        "s = Student()\n",
        "s.name = \"Anant\"\n",
        "\n",
        "l = [1, 2, 3, 4]\n",
        "l.some_attr = \"Anant\" # asked by Shubham, need to check"
      ],
      "metadata": {
        "colab": {
          "base_uri": "https://localhost:8080/",
          "height": 204
        },
        "id": "cIRIYTmM91Mc",
        "outputId": "b1ab7c8e-dc9e-47ec-9d4a-022f5200bbbd"
      },
      "execution_count": null,
      "outputs": [
        {
          "output_type": "error",
          "ename": "AttributeError",
          "evalue": "ignored",
          "traceback": [
            "\u001b[0;31m---------------------------------------------------------------------------\u001b[0m",
            "\u001b[0;31mAttributeError\u001b[0m                            Traceback (most recent call last)",
            "\u001b[0;32m<ipython-input-16-c14250abf86b>\u001b[0m in \u001b[0;36m<module>\u001b[0;34m()\u001b[0m\n\u001b[1;32m      6\u001b[0m \u001b[0;34m\u001b[0m\u001b[0m\n\u001b[1;32m      7\u001b[0m \u001b[0ml\u001b[0m \u001b[0;34m=\u001b[0m \u001b[0;34m[\u001b[0m\u001b[0;36m1\u001b[0m\u001b[0;34m,\u001b[0m \u001b[0;36m2\u001b[0m\u001b[0;34m,\u001b[0m \u001b[0;36m3\u001b[0m\u001b[0;34m,\u001b[0m \u001b[0;36m4\u001b[0m\u001b[0;34m]\u001b[0m\u001b[0;34m\u001b[0m\u001b[0;34m\u001b[0m\u001b[0m\n\u001b[0;32m----> 8\u001b[0;31m \u001b[0ml\u001b[0m\u001b[0;34m.\u001b[0m\u001b[0msome_attr\u001b[0m \u001b[0;34m=\u001b[0m \u001b[0;34m\"Anant\"\u001b[0m \u001b[0;31m# asked by Shubham, need to check\u001b[0m\u001b[0;34m\u001b[0m\u001b[0;34m\u001b[0m\u001b[0m\n\u001b[0m",
            "\u001b[0;31mAttributeError\u001b[0m: 'list' object has no attribute 'some_attr'"
          ]
        }
      ]
    },
    {
      "cell_type": "code",
      "source": [
        "class CustomList(list):\n",
        "    pass\n",
        "\n",
        "l = CustomList([1, 2, 3, 4])\n",
        "l.some_attr = \"Anant\"\n",
        "# https://stackoverflow.com/questions/4698493/can-i-add-custom-methods-attributes-to-built-in-python-types\n",
        "# https://stackoverflow.com/questions/1285269/why-cant-you-add-attributes-to-object-in-python"
      ],
      "metadata": {
        "id": "z3r1jLs122go"
      },
      "execution_count": null,
      "outputs": []
    },
    {
      "cell_type": "code",
      "source": [
        "l.__dict__"
      ],
      "metadata": {
        "colab": {
          "base_uri": "https://localhost:8080/"
        },
        "id": "AgvvuVrqsdFg",
        "outputId": "9f4e6bd1-e7a4-46b3-c161-2e932cc3f97b"
      },
      "execution_count": null,
      "outputs": [
        {
          "output_type": "execute_result",
          "data": {
            "text/plain": [
              "{'some_attr': 'Anant'}"
            ]
          },
          "metadata": {},
          "execution_count": 21
        }
      ]
    },
    {
      "cell_type": "markdown",
      "source": [
        "`__customdunderemethods__` , shared by Lakshmi, need to check \"again\". \\\n",
        " https://www.geeksforgeeks.org/customize-your-python-class-with-magic-or-dunder-methods/  \\\n",
        "Use for retaining  the inherited feature of the built-in class while providing customized class behavior\n",
        "https://stackoverflow.com/q/9302814/12266923"
      ],
      "metadata": {
        "id": "4iZO5XVA96QP"
      }
    },
    {
      "cell_type": "markdown",
      "source": [
        "# OOPs (Private Variables and Polymorphism)"
      ],
      "metadata": {
        "id": "cOC6NPzvNAOC"
      }
    },
    {
      "cell_type": "code",
      "source": [
        "class Account:\n",
        "    counter = 0  \n",
        "    def __init__(self, openingBal=0):\n",
        "        Account.counter += 1\n",
        "        self.id = Account.counter\n",
        "        self.bal = openingBal\n",
        "        self.num_transactions = 0\n",
        "        self.max_transactions = 2\n",
        "        \n",
        "    def deposit(self, amount):\n",
        "        if amount >= 0 and self.num_transactions < self.max_transactions:\n",
        "            self.bal += amount\n",
        "            self.num_transactions += 1\n",
        "        \n",
        "    def withdraw(self, amount):\n",
        "        if amount >= 0 and self.bal >= amount and self.num_transactions < self.max_transactions:\n",
        "            self.bal -= amount\n",
        "            self.num_transactions += 1\n",
        "        \n",
        "    def __str__(self):\n",
        "        return f\"Acc {self.id} has Rs.{self.bal}\"\n",
        "    \n",
        "    def __repr__(self):\n",
        "        return f\"{id}\"\n",
        "\n",
        "class SavingsAccount(Account):\n",
        "  pass\n",
        "\n",
        "class CurrentAccount(Account):\n",
        "  def __init__(self):\n",
        "    super().__init__()\n",
        "    self.max_transactions = 5\n",
        "\n",
        "sa1 = SavingsAccount()"
      ],
      "metadata": {
        "id": "U1tSxnnCNJ6Q"
      },
      "execution_count": null,
      "outputs": []
    },
    {
      "cell_type": "code",
      "source": [
        "print(sa1)"
      ],
      "metadata": {
        "colab": {
          "base_uri": "https://localhost:8080/"
        },
        "id": "CvCAPdK7tdc_",
        "outputId": "9805dbf4-9141-43a8-b47a-77a69a995143"
      },
      "execution_count": null,
      "outputs": [
        {
          "output_type": "stream",
          "name": "stdout",
          "text": [
            "Acc 1 has Rs.0\n"
          ]
        }
      ]
    },
    {
      "cell_type": "code",
      "source": [
        "print(ca1)"
      ],
      "metadata": {
        "colab": {
          "base_uri": "https://localhost:8080/"
        },
        "id": "5ycBfaxotfEH",
        "outputId": "147139de-53ef-417c-e85b-1e4575097244"
      },
      "execution_count": null,
      "outputs": [
        {
          "output_type": "stream",
          "name": "stdout",
          "text": [
            "Acc 2 has 0\n"
          ]
        }
      ]
    },
    {
      "cell_type": "code",
      "source": [
        "sa1.deposit(100)\n",
        "sa1.withdraw(150)\n",
        "sa1.withdraw(50)"
      ],
      "metadata": {
        "id": "EU-atgaGtg3g"
      },
      "execution_count": null,
      "outputs": []
    },
    {
      "cell_type": "code",
      "source": [
        "print(sa1)"
      ],
      "metadata": {
        "colab": {
          "base_uri": "https://localhost:8080/"
        },
        "id": "MybZ6cWMtmDc",
        "outputId": "6861546f-2436-4616-f45e-af4c521ddff1"
      },
      "execution_count": null,
      "outputs": [
        {
          "output_type": "stream",
          "name": "stdout",
          "text": [
            "Acc 1 has Rs.50\n"
          ]
        }
      ]
    },
    {
      "cell_type": "code",
      "source": [
        "sa1.bal "
      ],
      "metadata": {
        "colab": {
          "base_uri": "https://localhost:8080/"
        },
        "id": "CxsPvcmyt3sj",
        "outputId": "48f740d9-46c2-494c-d1b9-8a1a9af5f9dc"
      },
      "execution_count": null,
      "outputs": [
        {
          "output_type": "execute_result",
          "data": {
            "text/plain": [
              "50"
            ]
          },
          "metadata": {},
          "execution_count": 44
        }
      ]
    },
    {
      "cell_type": "code",
      "source": [
        "sa1.bal = 999999"
      ],
      "metadata": {
        "id": "-rKKEnavt658"
      },
      "execution_count": null,
      "outputs": []
    },
    {
      "cell_type": "code",
      "source": [
        "print(sa1)"
      ],
      "metadata": {
        "colab": {
          "base_uri": "https://localhost:8080/"
        },
        "id": "xSomhn8huTqP",
        "outputId": "ecce83f4-ef26-429d-8a66-91583c4a8757"
      },
      "execution_count": null,
      "outputs": [
        {
          "output_type": "stream",
          "name": "stdout",
          "text": [
            "Acc 1 has Rs.999999\n"
          ]
        }
      ]
    },
    {
      "cell_type": "code",
      "source": [
        "class Account:\n",
        "    counter = 0  \n",
        "    def __init__(self, openingBal=0):\n",
        "        Account.counter += 1\n",
        "        self.id = Account.counter\n",
        "        self.__bal = openingBal\n",
        "        self.num_transactions = 0\n",
        "        self.max_transactions = 2\n",
        "        \n",
        "    def deposit(self, amount):\n",
        "        if amount >= 0 and self.num_transactions < self.max_transactions:\n",
        "            self.__bal += amount\n",
        "            self.num_transactions += 1\n",
        "        \n",
        "    def withdraw(self, amount):\n",
        "        if amount >= 0 and self.__bal >= amount and self.num_transactions < self.max_transactions:\n",
        "            self.__bal -= amount\n",
        "            self.num_transactions += 1\n",
        "        \n",
        "    def __str__(self):\n",
        "        return f\"Acc {self.id} has Rs.{self.__bal}\"\n",
        "    \n",
        "    def __repr__(self):\n",
        "        return f\"{id}\"\n",
        "\n",
        "class SavingsAccount(Account):\n",
        "  pass\n",
        "\n",
        "class CurrentAccount(Account):\n",
        "  def __init__(self):\n",
        "    super().__init__()\n",
        "    self.max_transactions = 5\n",
        "\n",
        "sa1 = SavingsAccount()"
      ],
      "metadata": {
        "id": "3RJUn0RUuVC_"
      },
      "execution_count": null,
      "outputs": []
    },
    {
      "cell_type": "code",
      "source": [
        "sa1.deposit(100)\n",
        "sa1.withdraw(150)\n",
        "sa1.withdraw(50)"
      ],
      "metadata": {
        "id": "69ILmBhyux_d"
      },
      "execution_count": null,
      "outputs": []
    },
    {
      "cell_type": "code",
      "source": [
        "print(sa1)"
      ],
      "metadata": {
        "colab": {
          "base_uri": "https://localhost:8080/"
        },
        "id": "TRKJk6Q8u0Rt",
        "outputId": "ff3d9b6b-2734-4a09-d776-1503929f29d3"
      },
      "execution_count": null,
      "outputs": [
        {
          "output_type": "stream",
          "name": "stdout",
          "text": [
            "Acc 1 has Rs.50\n"
          ]
        }
      ]
    },
    {
      "cell_type": "code",
      "source": [
        "sa1.__bal = 999999"
      ],
      "metadata": {
        "id": "658Xk3aHu8sJ"
      },
      "execution_count": null,
      "outputs": []
    },
    {
      "cell_type": "code",
      "source": [
        "print(sa1)"
      ],
      "metadata": {
        "colab": {
          "base_uri": "https://localhost:8080/"
        },
        "id": "kccE6CMhvArT",
        "outputId": "7959f90e-3afa-4898-b3f5-4684a1fc8be0"
      },
      "execution_count": null,
      "outputs": [
        {
          "output_type": "stream",
          "name": "stdout",
          "text": [
            "Acc 1 has Rs.50\n"
          ]
        }
      ]
    },
    {
      "cell_type": "code",
      "source": [
        "sa1.__bal"
      ],
      "metadata": {
        "colab": {
          "base_uri": "https://localhost:8080/"
        },
        "id": "n-hWYQrSvCdS",
        "outputId": "eb3acda2-8995-4942-e456-a25fe5ab1520"
      },
      "execution_count": null,
      "outputs": [
        {
          "output_type": "execute_result",
          "data": {
            "text/plain": [
              "999999"
            ]
          },
          "metadata": {},
          "execution_count": 54
        }
      ]
    },
    {
      "cell_type": "code",
      "source": [
        "# __bal --> _Account__bal"
      ],
      "metadata": {
        "id": "wAzYx-I6vHut"
      },
      "execution_count": null,
      "outputs": []
    },
    {
      "cell_type": "code",
      "source": [
        "sa1._Account__bal"
      ],
      "metadata": {
        "colab": {
          "base_uri": "https://localhost:8080/"
        },
        "id": "cf_NBBY0xGVz",
        "outputId": "b4c32aca-5c92-457c-9763-7289833ec9bf"
      },
      "execution_count": null,
      "outputs": [
        {
          "output_type": "execute_result",
          "data": {
            "text/plain": [
              "50"
            ]
          },
          "metadata": {},
          "execution_count": 55
        }
      ]
    },
    {
      "cell_type": "code",
      "source": [
        "sa1._Account__bal = 1000\n",
        "print(sa1)"
      ],
      "metadata": {
        "colab": {
          "base_uri": "https://localhost:8080/"
        },
        "id": "74_nFS1sxLx4",
        "outputId": "f8e03bab-51da-4fef-a041-1249128ac797"
      },
      "execution_count": null,
      "outputs": [
        {
          "output_type": "stream",
          "name": "stdout",
          "text": [
            "Acc 1 has Rs.1000\n"
          ]
        }
      ]
    },
    {
      "cell_type": "markdown",
      "source": [
        "Public, Protected and Private"
      ],
      "metadata": {
        "id": "L-cmuEl8vwPR"
      }
    },
    {
      "cell_type": "code",
      "source": [
        "# Polymorphism"
      ],
      "metadata": {
        "id": "h-PScChPv-ps"
      },
      "execution_count": null,
      "outputs": []
    },
    {
      "cell_type": "code",
      "source": [
        "# Savings Account - 3%\n",
        "# Current Account - No interest"
      ],
      "metadata": {
        "id": "23mxF4_oxgse"
      },
      "execution_count": null,
      "outputs": []
    },
    {
      "cell_type": "code",
      "source": [
        "class Account:\n",
        "    counter = 0  \n",
        "    def __init__(self, openingBal=0):\n",
        "        Account.counter += 1\n",
        "        self.id = Account.counter\n",
        "        self.__bal = openingBal\n",
        "        self.num_transactions = 0\n",
        "        self.max_transactions = 2\n",
        "        \n",
        "    def deposit(self, amount):\n",
        "        if amount >= 0 and self.num_transactions < self.max_transactions:\n",
        "            self.__bal += amount\n",
        "            self.num_transactions += 1\n",
        "        \n",
        "    def withdraw(self, amount):\n",
        "        if amount >= 0 and self.__bal >= amount and self.num_transactions < self.max_transactions:\n",
        "            self.__bal -= amount\n",
        "            self.num_transactions += 1\n",
        "        \n",
        "    def __str__(self):\n",
        "        return f\"Acc {self.id} has Rs.{self.__bal}\"\n",
        "    \n",
        "    def __repr__(self):\n",
        "        return f\"{id}\"\n",
        "\n",
        "    def get_interest(self):\n",
        "      pass\n",
        "\n",
        "\n",
        "class SavingsAccount(Account):\n",
        "  def get_interest(self):\n",
        "    return self._Account__bal*0.03\n",
        "\n",
        "class CurrentAccount(Account):\n",
        "  def __init__(self):\n",
        "    super().__init__()\n",
        "    self.max_transactions = 5\n",
        "\n",
        "  def get_interest(self):\n",
        "    return 0\n",
        "\n",
        "s1 = SavingsAccount()\n",
        "c1 = CurrentAccount()"
      ],
      "metadata": {
        "id": "Sv1A1GC7xndI"
      },
      "execution_count": null,
      "outputs": []
    },
    {
      "cell_type": "code",
      "source": [
        "print(s1)"
      ],
      "metadata": {
        "colab": {
          "base_uri": "https://localhost:8080/"
        },
        "id": "H-qrmtdfx9ap",
        "outputId": "2e289fb1-1951-4bcd-e67e-5197a86148c8"
      },
      "execution_count": null,
      "outputs": [
        {
          "output_type": "stream",
          "name": "stdout",
          "text": [
            "Acc 1 has Rs.0\n"
          ]
        }
      ]
    },
    {
      "cell_type": "code",
      "source": [
        "s1.deposit(102)\n",
        "c1.deposit(100)\n",
        "print(s1)\n",
        "print(c1)"
      ],
      "metadata": {
        "colab": {
          "base_uri": "https://localhost:8080/"
        },
        "id": "b-jhPQWBykmK",
        "outputId": "8d520a7a-8056-4e14-8d09-2ce434f74007"
      },
      "execution_count": null,
      "outputs": [
        {
          "output_type": "stream",
          "name": "stdout",
          "text": [
            "Acc 1 has Rs.102\n",
            "Acc 2 has Rs.100\n"
          ]
        }
      ]
    },
    {
      "cell_type": "code",
      "source": [
        "c1.get_interest()"
      ],
      "metadata": {
        "colab": {
          "base_uri": "https://localhost:8080/"
        },
        "id": "alfVcQ8yyqJC",
        "outputId": "ac32ae58-abfe-49b1-bdcd-d476ca9c474c"
      },
      "execution_count": null,
      "outputs": [
        {
          "output_type": "execute_result",
          "data": {
            "text/plain": [
              "0"
            ]
          },
          "metadata": {},
          "execution_count": 109
        }
      ]
    },
    {
      "cell_type": "code",
      "source": [
        "s1.get_interest()"
      ],
      "metadata": {
        "colab": {
          "base_uri": "https://localhost:8080/"
        },
        "id": "9mwdPYJ4zNoZ",
        "outputId": "d5a8a095-482e-46e5-c67d-fdafb106fa6d"
      },
      "execution_count": null,
      "outputs": [
        {
          "output_type": "execute_result",
          "data": {
            "text/plain": [
              "3.06"
            ]
          },
          "metadata": {},
          "execution_count": 110
        }
      ]
    }
  ],
  "metadata": {
    "colab": {
      "collapsed_sections": [
        "0JL32JuH_X1q",
        "cOC6NPzvNAOC"
      ],
      "name": "04-PythonOOPs.ipynb",
      "provenance": [],
      "include_colab_link": true
    },
    "kernelspec": {
      "display_name": "Python 3",
      "name": "python3"
    },
    "language_info": {
      "name": "python"
    }
  },
  "nbformat": 4,
  "nbformat_minor": 0
}